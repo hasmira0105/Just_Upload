{
  "nbformat": 4,
  "nbformat_minor": 0,
  "metadata": {
    "colab": {
      "name": "4th_training.ipynb",
      "provenance": [],
      "mount_file_id": "1nZd-t23vVNrbPIIAKId96pqzCnyaSu_o",
      "authorship_tag": "ABX9TyOSZO2vaqJ8tx1Fr+tpBBNr",
      "include_colab_link": true
    },
    "kernelspec": {
      "name": "python3",
      "display_name": "Python 3"
    },
    "language_info": {
      "name": "python"
    },
    "accelerator": "GPU"
  },
  "cells": [
    {
      "cell_type": "markdown",
      "metadata": {
        "id": "view-in-github",
        "colab_type": "text"
      },
      "source": [
        "<a href=\"https://colab.research.google.com/github/hasmira0105/Public-repo/blob/main/4th_training.ipynb\" target=\"_parent\"><img src=\"https://colab.research.google.com/assets/colab-badge.svg\" alt=\"Open In Colab\"/></a>"
      ]
    },
    {
      "cell_type": "code",
      "metadata": {
        "id": "jwcybFjysWm4",
        "colab": {
          "base_uri": "https://localhost:8080/"
        },
        "outputId": "fb7feb09-0fce-4f1b-822b-9bbc68780659"
      },
      "source": [
        "from tensorflow.keras.preprocessing.image import ImageDataGenerator\n",
        "\n",
        "train = ImageDataGenerator(\n",
        "      rescale=1./255,\n",
        "      rotation_range=40,\n",
        "      width_shift_range=0.2,\n",
        "      height_shift_range=0.2,\n",
        "      shear_range=0.2,\n",
        "      zoom_range=0.2,\n",
        "      horizontal_flip=True,\n",
        "      fill_mode='nearest')\n",
        "\n",
        "validation = ImageDataGenerator(rescale=1/255)\n",
        "\n",
        "\n",
        "training_dataset = train.flow_from_directory(\n",
        "    '/content/drive/MyDrive/Dataset1/Train',\n",
        "    target_size = (300, 300),\n",
        "    batch_size = 50,\n",
        "    class_mode = 'categorical'\n",
        ")\n",
        "\n",
        "validation_dataset = validation.flow_from_directory(\n",
        "    '/content/drive/MyDrive/Dataset1/Validation',\n",
        "    target_size = (300, 300),\n",
        "    batch_size = 50,\n",
        "    class_mode = 'categorical'\n",
        ")"
      ],
      "execution_count": null,
      "outputs": [
        {
          "output_type": "stream",
          "text": [
            "Found 2000 images belonging to 5 classes.\n",
            "Found 500 images belonging to 5 classes.\n"
          ],
          "name": "stdout"
        }
      ]
    },
    {
      "cell_type": "code",
      "metadata": {
        "id": "X7Irox4DseHy"
      },
      "source": [
        "from tensorflow.keras.models import Sequential\n",
        "from tensorflow.keras.layers import Conv2D, MaxPooling2D, Flatten, Dense, Dropout\n",
        "\n",
        "model = Sequential ([\n",
        "    Conv2D(16, (3, 3), activation='relu', input_shape=(300, 300, 3)),\n",
        "    MaxPooling2D(5, 5),\n",
        "    Conv2D(32, (3, 3), activation='relu'),\n",
        "    MaxPooling2D(5, 5),\n",
        "    Flatten(),\n",
        "    Dense(64, activation='relu'),\n",
        "    Dropout(0.5),\n",
        "    Dense(512, activation='relu'),\n",
        "    Dense(5, activation='softmax')                \n",
        "])"
      ],
      "execution_count": null,
      "outputs": []
    },
    {
      "cell_type": "code",
      "metadata": {
        "colab": {
          "base_uri": "https://localhost:8080/"
        },
        "id": "KeXrqfzEwIac",
        "outputId": "63500aee-c9a2-4f44-e4fb-7643c16b0cee"
      },
      "source": [
        "model.summary()"
      ],
      "execution_count": null,
      "outputs": [
        {
          "output_type": "stream",
          "text": [
            "Model: \"sequential\"\n",
            "_________________________________________________________________\n",
            "Layer (type)                 Output Shape              Param #   \n",
            "=================================================================\n",
            "conv2d (Conv2D)              (None, 298, 298, 16)      448       \n",
            "_________________________________________________________________\n",
            "max_pooling2d (MaxPooling2D) (None, 59, 59, 16)        0         \n",
            "_________________________________________________________________\n",
            "conv2d_1 (Conv2D)            (None, 57, 57, 32)        4640      \n",
            "_________________________________________________________________\n",
            "max_pooling2d_1 (MaxPooling2 (None, 11, 11, 32)        0         \n",
            "_________________________________________________________________\n",
            "flatten (Flatten)            (None, 3872)              0         \n",
            "_________________________________________________________________\n",
            "dense (Dense)                (None, 64)                247872    \n",
            "_________________________________________________________________\n",
            "dropout (Dropout)            (None, 64)                0         \n",
            "_________________________________________________________________\n",
            "dense_1 (Dense)              (None, 512)               33280     \n",
            "_________________________________________________________________\n",
            "dense_2 (Dense)              (None, 5)                 2565      \n",
            "=================================================================\n",
            "Total params: 288,805\n",
            "Trainable params: 288,805\n",
            "Non-trainable params: 0\n",
            "_________________________________________________________________\n"
          ],
          "name": "stdout"
        }
      ]
    },
    {
      "cell_type": "code",
      "metadata": {
        "id": "TGmFHQh5vbC-"
      },
      "source": [
        "model.compile(optimizer='SGD', loss='categorical_crossentropy', metrics=['accuracy'])"
      ],
      "execution_count": null,
      "outputs": []
    },
    {
      "cell_type": "code",
      "metadata": {
        "colab": {
          "base_uri": "https://localhost:8080/"
        },
        "id": "lsnGshHRvkW9",
        "outputId": "5d970302-302e-433d-e802-c34b14a7493e"
      },
      "source": [
        "history = model.fit(\n",
        "    training_dataset,\n",
        "    steps_per_epoch = 8,\n",
        "    epochs = 200,\n",
        "    verbose = 1,\n",
        "    validation_data = validation_dataset,\n",
        "    validation_steps = 2\n",
        ")"
      ],
      "execution_count": null,
      "outputs": [
        {
          "output_type": "stream",
          "text": [
            "Epoch 1/200\n",
            "8/8 [==============================] - 185s 20s/step - loss: 1.6124 - accuracy: 0.2225 - val_loss: 1.6136 - val_accuracy: 0.1900\n",
            "Epoch 2/200\n",
            "8/8 [==============================] - 131s 17s/step - loss: 1.6135 - accuracy: 0.2050 - val_loss: 1.6101 - val_accuracy: 0.2200\n",
            "Epoch 3/200\n",
            "8/8 [==============================] - 99s 13s/step - loss: 1.6117 - accuracy: 0.1925 - val_loss: 1.6051 - val_accuracy: 0.2700\n",
            "Epoch 4/200\n",
            "8/8 [==============================] - 73s 9s/step - loss: 1.6115 - accuracy: 0.2150 - val_loss: 1.6112 - val_accuracy: 0.2100\n",
            "Epoch 5/200\n",
            "8/8 [==============================] - 65s 8s/step - loss: 1.6122 - accuracy: 0.1900 - val_loss: 1.6081 - val_accuracy: 0.1800\n",
            "Epoch 6/200\n",
            "8/8 [==============================] - 44s 6s/step - loss: 1.6084 - accuracy: 0.2100 - val_loss: 1.6034 - val_accuracy: 0.2100\n",
            "Epoch 7/200\n",
            "8/8 [==============================] - 41s 5s/step - loss: 1.6126 - accuracy: 0.1600 - val_loss: 1.6019 - val_accuracy: 0.3100\n",
            "Epoch 8/200\n",
            "8/8 [==============================] - 28s 4s/step - loss: 1.6092 - accuracy: 0.1850 - val_loss: 1.6066 - val_accuracy: 0.2700\n",
            "Epoch 9/200\n",
            "8/8 [==============================] - 29s 4s/step - loss: 1.6083 - accuracy: 0.2400 - val_loss: 1.6047 - val_accuracy: 0.2100\n",
            "Epoch 10/200\n",
            "8/8 [==============================] - 24s 3s/step - loss: 1.6028 - accuracy: 0.2475 - val_loss: 1.6031 - val_accuracy: 0.2900\n",
            "Epoch 11/200\n",
            "8/8 [==============================] - 19s 2s/step - loss: 1.6090 - accuracy: 0.2025 - val_loss: 1.6053 - val_accuracy: 0.2500\n",
            "Epoch 12/200\n",
            "8/8 [==============================] - 18s 2s/step - loss: 1.6063 - accuracy: 0.2250 - val_loss: 1.5985 - val_accuracy: 0.2200\n",
            "Epoch 13/200\n",
            "8/8 [==============================] - 16s 2s/step - loss: 1.6062 - accuracy: 0.2125 - val_loss: 1.5972 - val_accuracy: 0.2300\n",
            "Epoch 14/200\n",
            "8/8 [==============================] - 12s 1s/step - loss: 1.6032 - accuracy: 0.2300 - val_loss: 1.6065 - val_accuracy: 0.1800\n",
            "Epoch 15/200\n",
            "8/8 [==============================] - 16s 2s/step - loss: 1.6051 - accuracy: 0.1950 - val_loss: 1.6115 - val_accuracy: 0.1500\n",
            "Epoch 16/200\n",
            "8/8 [==============================] - 11s 1s/step - loss: 1.6055 - accuracy: 0.2425 - val_loss: 1.5931 - val_accuracy: 0.3200\n",
            "Epoch 17/200\n",
            "8/8 [==============================] - 12s 1s/step - loss: 1.6120 - accuracy: 0.2100 - val_loss: 1.5988 - val_accuracy: 0.2500\n",
            "Epoch 18/200\n",
            "8/8 [==============================] - 11s 1s/step - loss: 1.6061 - accuracy: 0.2325 - val_loss: 1.5990 - val_accuracy: 0.2800\n",
            "Epoch 19/200\n",
            "8/8 [==============================] - 10s 1s/step - loss: 1.6053 - accuracy: 0.2175 - val_loss: 1.5961 - val_accuracy: 0.2400\n",
            "Epoch 20/200\n",
            "8/8 [==============================] - 10s 1s/step - loss: 1.6144 - accuracy: 0.2050 - val_loss: 1.5999 - val_accuracy: 0.2400\n",
            "Epoch 21/200\n",
            "8/8 [==============================] - 10s 1s/step - loss: 1.6072 - accuracy: 0.2125 - val_loss: 1.5987 - val_accuracy: 0.2800\n",
            "Epoch 22/200\n",
            "8/8 [==============================] - 10s 1s/step - loss: 1.6051 - accuracy: 0.2300 - val_loss: 1.5949 - val_accuracy: 0.3000\n",
            "Epoch 23/200\n",
            "8/8 [==============================] - 10s 1s/step - loss: 1.6073 - accuracy: 0.1925 - val_loss: 1.6017 - val_accuracy: 0.2600\n",
            "Epoch 24/200\n",
            "8/8 [==============================] - 10s 1s/step - loss: 1.6020 - accuracy: 0.2225 - val_loss: 1.5991 - val_accuracy: 0.2400\n",
            "Epoch 25/200\n",
            "8/8 [==============================] - 10s 1s/step - loss: 1.6028 - accuracy: 0.2375 - val_loss: 1.5973 - val_accuracy: 0.3400\n",
            "Epoch 26/200\n",
            "8/8 [==============================] - 10s 1s/step - loss: 1.6059 - accuracy: 0.2000 - val_loss: 1.5970 - val_accuracy: 0.2800\n",
            "Epoch 27/200\n",
            "8/8 [==============================] - 10s 1s/step - loss: 1.5935 - accuracy: 0.2700 - val_loss: 1.5948 - val_accuracy: 0.2800\n",
            "Epoch 28/200\n",
            "8/8 [==============================] - 10s 1s/step - loss: 1.6072 - accuracy: 0.2100 - val_loss: 1.5993 - val_accuracy: 0.2300\n",
            "Epoch 29/200\n",
            "8/8 [==============================] - 10s 1s/step - loss: 1.6039 - accuracy: 0.2325 - val_loss: 1.5918 - val_accuracy: 0.3100\n",
            "Epoch 30/200\n",
            "8/8 [==============================] - 10s 1s/step - loss: 1.6057 - accuracy: 0.2050 - val_loss: 1.5949 - val_accuracy: 0.3100\n",
            "Epoch 31/200\n",
            "8/8 [==============================] - 10s 1s/step - loss: 1.6011 - accuracy: 0.2250 - val_loss: 1.5881 - val_accuracy: 0.3800\n",
            "Epoch 32/200\n",
            "8/8 [==============================] - 9s 1s/step - loss: 1.6022 - accuracy: 0.2425 - val_loss: 1.5959 - val_accuracy: 0.3700\n",
            "Epoch 33/200\n",
            "8/8 [==============================] - 9s 1s/step - loss: 1.6013 - accuracy: 0.2500 - val_loss: 1.5842 - val_accuracy: 0.4500\n",
            "Epoch 34/200\n",
            "8/8 [==============================] - 9s 1s/step - loss: 1.5982 - accuracy: 0.2600 - val_loss: 1.5972 - val_accuracy: 0.3300\n",
            "Epoch 35/200\n",
            "8/8 [==============================] - 10s 1s/step - loss: 1.6065 - accuracy: 0.2275 - val_loss: 1.5884 - val_accuracy: 0.4600\n",
            "Epoch 36/200\n",
            "8/8 [==============================] - 9s 1s/step - loss: 1.6017 - accuracy: 0.2525 - val_loss: 1.5850 - val_accuracy: 0.4300\n",
            "Epoch 37/200\n",
            "8/8 [==============================] - 10s 1s/step - loss: 1.5998 - accuracy: 0.2350 - val_loss: 1.5980 - val_accuracy: 0.2800\n",
            "Epoch 38/200\n",
            "8/8 [==============================] - 9s 1s/step - loss: 1.6008 - accuracy: 0.2350 - val_loss: 1.5909 - val_accuracy: 0.3900\n",
            "Epoch 39/200\n",
            "8/8 [==============================] - 10s 1s/step - loss: 1.5945 - accuracy: 0.2450 - val_loss: 1.5941 - val_accuracy: 0.3300\n",
            "Epoch 40/200\n",
            "8/8 [==============================] - 9s 1s/step - loss: 1.5888 - accuracy: 0.2700 - val_loss: 1.5802 - val_accuracy: 0.4300\n",
            "Epoch 41/200\n",
            "8/8 [==============================] - 9s 1s/step - loss: 1.6026 - accuracy: 0.2675 - val_loss: 1.5855 - val_accuracy: 0.4400\n",
            "Epoch 42/200\n",
            "8/8 [==============================] - 10s 1s/step - loss: 1.5986 - accuracy: 0.2675 - val_loss: 1.5917 - val_accuracy: 0.3700\n",
            "Epoch 43/200\n",
            "8/8 [==============================] - 9s 1s/step - loss: 1.5977 - accuracy: 0.2625 - val_loss: 1.5852 - val_accuracy: 0.4400\n",
            "Epoch 44/200\n",
            "8/8 [==============================] - 10s 1s/step - loss: 1.5940 - accuracy: 0.2825 - val_loss: 1.5716 - val_accuracy: 0.4900\n",
            "Epoch 45/200\n",
            "8/8 [==============================] - 10s 1s/step - loss: 1.5960 - accuracy: 0.2625 - val_loss: 1.5814 - val_accuracy: 0.3100\n",
            "Epoch 46/200\n",
            "8/8 [==============================] - 10s 1s/step - loss: 1.5953 - accuracy: 0.2850 - val_loss: 1.5926 - val_accuracy: 0.3000\n",
            "Epoch 47/200\n",
            "8/8 [==============================] - 9s 1s/step - loss: 1.5948 - accuracy: 0.2575 - val_loss: 1.5807 - val_accuracy: 0.3400\n",
            "Epoch 48/200\n",
            "8/8 [==============================] - 10s 1s/step - loss: 1.5976 - accuracy: 0.2425 - val_loss: 1.5708 - val_accuracy: 0.3800\n",
            "Epoch 49/200\n",
            "8/8 [==============================] - 9s 1s/step - loss: 1.5906 - accuracy: 0.2600 - val_loss: 1.5878 - val_accuracy: 0.3100\n",
            "Epoch 50/200\n",
            "8/8 [==============================] - 10s 1s/step - loss: 1.5929 - accuracy: 0.2525 - val_loss: 1.5816 - val_accuracy: 0.3500\n",
            "Epoch 51/200\n",
            "8/8 [==============================] - 10s 1s/step - loss: 1.5980 - accuracy: 0.2425 - val_loss: 1.5721 - val_accuracy: 0.3500\n",
            "Epoch 52/200\n",
            "8/8 [==============================] - 10s 1s/step - loss: 1.5884 - accuracy: 0.2850 - val_loss: 1.5678 - val_accuracy: 0.3400\n",
            "Epoch 53/200\n",
            "8/8 [==============================] - 9s 1s/step - loss: 1.5996 - accuracy: 0.2325 - val_loss: 1.5647 - val_accuracy: 0.4900\n",
            "Epoch 54/200\n",
            "8/8 [==============================] - 10s 1s/step - loss: 1.5913 - accuracy: 0.2625 - val_loss: 1.5822 - val_accuracy: 0.3000\n",
            "Epoch 55/200\n",
            "8/8 [==============================] - 10s 1s/step - loss: 1.5870 - accuracy: 0.2725 - val_loss: 1.5851 - val_accuracy: 0.2700\n",
            "Epoch 56/200\n",
            "8/8 [==============================] - 9s 1s/step - loss: 1.5894 - accuracy: 0.2375 - val_loss: 1.5713 - val_accuracy: 0.4000\n",
            "Epoch 57/200\n",
            "8/8 [==============================] - 10s 1s/step - loss: 1.5875 - accuracy: 0.2975 - val_loss: 1.5778 - val_accuracy: 0.3300\n",
            "Epoch 58/200\n",
            "8/8 [==============================] - 10s 1s/step - loss: 1.5862 - accuracy: 0.2875 - val_loss: 1.5533 - val_accuracy: 0.3900\n",
            "Epoch 59/200\n",
            "8/8 [==============================] - 10s 1s/step - loss: 1.5968 - accuracy: 0.2475 - val_loss: 1.5706 - val_accuracy: 0.3800\n",
            "Epoch 60/200\n",
            "8/8 [==============================] - 9s 1s/step - loss: 1.5836 - accuracy: 0.3125 - val_loss: 1.5673 - val_accuracy: 0.3600\n",
            "Epoch 61/200\n",
            "8/8 [==============================] - 9s 1s/step - loss: 1.5948 - accuracy: 0.2450 - val_loss: 1.5689 - val_accuracy: 0.3900\n",
            "Epoch 62/200\n",
            "8/8 [==============================] - 9s 1s/step - loss: 1.5884 - accuracy: 0.2450 - val_loss: 1.5588 - val_accuracy: 0.4400\n",
            "Epoch 63/200\n",
            "8/8 [==============================] - 10s 1s/step - loss: 1.5743 - accuracy: 0.2850 - val_loss: 1.5942 - val_accuracy: 0.2500\n",
            "Epoch 64/200\n",
            "8/8 [==============================] - 10s 1s/step - loss: 1.5783 - accuracy: 0.2550 - val_loss: 1.5616 - val_accuracy: 0.2900\n",
            "Epoch 65/200\n",
            "8/8 [==============================] - 10s 1s/step - loss: 1.5860 - accuracy: 0.2450 - val_loss: 1.5770 - val_accuracy: 0.3000\n",
            "Epoch 66/200\n",
            "8/8 [==============================] - 9s 1s/step - loss: 1.5863 - accuracy: 0.2950 - val_loss: 1.5458 - val_accuracy: 0.5200\n",
            "Epoch 67/200\n",
            "8/8 [==============================] - 9s 1s/step - loss: 1.5767 - accuracy: 0.2925 - val_loss: 1.5490 - val_accuracy: 0.4700\n",
            "Epoch 68/200\n",
            "8/8 [==============================] - 10s 1s/step - loss: 1.5752 - accuracy: 0.2925 - val_loss: 1.5558 - val_accuracy: 0.4000\n",
            "Epoch 69/200\n",
            "8/8 [==============================] - 9s 1s/step - loss: 1.5822 - accuracy: 0.2900 - val_loss: 1.5553 - val_accuracy: 0.3200\n",
            "Epoch 70/200\n",
            "8/8 [==============================] - 9s 1s/step - loss: 1.5596 - accuracy: 0.3250 - val_loss: 1.5377 - val_accuracy: 0.4400\n",
            "Epoch 71/200\n",
            "8/8 [==============================] - 10s 1s/step - loss: 1.5672 - accuracy: 0.3075 - val_loss: 1.5570 - val_accuracy: 0.2200\n",
            "Epoch 72/200\n",
            "8/8 [==============================] - 10s 1s/step - loss: 1.5776 - accuracy: 0.2800 - val_loss: 1.5438 - val_accuracy: 0.3100\n",
            "Epoch 73/200\n",
            "8/8 [==============================] - 10s 1s/step - loss: 1.5668 - accuracy: 0.2750 - val_loss: 1.5482 - val_accuracy: 0.3100\n",
            "Epoch 74/200\n",
            "8/8 [==============================] - 10s 1s/step - loss: 1.5647 - accuracy: 0.3450 - val_loss: 1.5328 - val_accuracy: 0.3700\n",
            "Epoch 75/200\n",
            "8/8 [==============================] - 10s 1s/step - loss: 1.5749 - accuracy: 0.2625 - val_loss: 1.5426 - val_accuracy: 0.3700\n",
            "Epoch 76/200\n",
            "8/8 [==============================] - 9s 1s/step - loss: 1.5672 - accuracy: 0.2950 - val_loss: 1.5130 - val_accuracy: 0.4600\n",
            "Epoch 77/200\n",
            "8/8 [==============================] - 10s 1s/step - loss: 1.5748 - accuracy: 0.2725 - val_loss: 1.5339 - val_accuracy: 0.3500\n",
            "Epoch 78/200\n",
            "8/8 [==============================] - 10s 1s/step - loss: 1.5439 - accuracy: 0.3250 - val_loss: 1.5571 - val_accuracy: 0.2700\n",
            "Epoch 79/200\n",
            "8/8 [==============================] - 10s 1s/step - loss: 1.5654 - accuracy: 0.3300 - val_loss: 1.5327 - val_accuracy: 0.3500\n",
            "Epoch 80/200\n",
            "8/8 [==============================] - 10s 1s/step - loss: 1.5480 - accuracy: 0.3775 - val_loss: 1.5298 - val_accuracy: 0.4100\n",
            "Epoch 81/200\n",
            "8/8 [==============================] - 9s 1s/step - loss: 1.5508 - accuracy: 0.2950 - val_loss: 1.5260 - val_accuracy: 0.3100\n",
            "Epoch 82/200\n",
            "8/8 [==============================] - 9s 1s/step - loss: 1.5470 - accuracy: 0.3300 - val_loss: 1.5190 - val_accuracy: 0.3600\n",
            "Epoch 83/200\n",
            "8/8 [==============================] - 10s 1s/step - loss: 1.5571 - accuracy: 0.3025 - val_loss: 1.5124 - val_accuracy: 0.4100\n",
            "Epoch 84/200\n",
            "8/8 [==============================] - 10s 1s/step - loss: 1.5599 - accuracy: 0.2900 - val_loss: 1.4984 - val_accuracy: 0.4800\n",
            "Epoch 85/200\n",
            "8/8 [==============================] - 10s 1s/step - loss: 1.5571 - accuracy: 0.2825 - val_loss: 1.5304 - val_accuracy: 0.4100\n",
            "Epoch 86/200\n",
            "8/8 [==============================] - 10s 1s/step - loss: 1.5428 - accuracy: 0.3300 - val_loss: 1.4996 - val_accuracy: 0.4200\n",
            "Epoch 87/200\n",
            "8/8 [==============================] - 10s 1s/step - loss: 1.5430 - accuracy: 0.3375 - val_loss: 1.4855 - val_accuracy: 0.4300\n",
            "Epoch 88/200\n",
            "8/8 [==============================] - 10s 1s/step - loss: 1.5525 - accuracy: 0.2850 - val_loss: 1.4955 - val_accuracy: 0.3300\n",
            "Epoch 89/200\n",
            "8/8 [==============================] - 10s 1s/step - loss: 1.5296 - accuracy: 0.3475 - val_loss: 1.5163 - val_accuracy: 0.3500\n",
            "Epoch 90/200\n",
            "8/8 [==============================] - 10s 1s/step - loss: 1.5520 - accuracy: 0.2800 - val_loss: 1.4691 - val_accuracy: 0.4400\n",
            "Epoch 91/200\n",
            "8/8 [==============================] - 10s 1s/step - loss: 1.5416 - accuracy: 0.3275 - val_loss: 1.4952 - val_accuracy: 0.4000\n",
            "Epoch 92/200\n",
            "8/8 [==============================] - 10s 1s/step - loss: 1.5364 - accuracy: 0.3050 - val_loss: 1.4687 - val_accuracy: 0.4000\n",
            "Epoch 93/200\n",
            "8/8 [==============================] - 10s 1s/step - loss: 1.5295 - accuracy: 0.3550 - val_loss: 1.4479 - val_accuracy: 0.4600\n",
            "Epoch 94/200\n",
            "8/8 [==============================] - 10s 1s/step - loss: 1.5322 - accuracy: 0.3375 - val_loss: 1.4904 - val_accuracy: 0.4700\n",
            "Epoch 95/200\n",
            "8/8 [==============================] - 10s 1s/step - loss: 1.5302 - accuracy: 0.2875 - val_loss: 1.4601 - val_accuracy: 0.4900\n",
            "Epoch 96/200\n",
            "8/8 [==============================] - 10s 1s/step - loss: 1.5237 - accuracy: 0.3275 - val_loss: 1.4283 - val_accuracy: 0.5100\n",
            "Epoch 97/200\n",
            "8/8 [==============================] - 10s 1s/step - loss: 1.5134 - accuracy: 0.3750 - val_loss: 1.4247 - val_accuracy: 0.5000\n",
            "Epoch 98/200\n",
            "8/8 [==============================] - 10s 1s/step - loss: 1.5293 - accuracy: 0.3050 - val_loss: 1.4442 - val_accuracy: 0.4300\n",
            "Epoch 99/200\n",
            "8/8 [==============================] - 10s 1s/step - loss: 1.5222 - accuracy: 0.3425 - val_loss: 1.4414 - val_accuracy: 0.4600\n",
            "Epoch 100/200\n",
            "8/8 [==============================] - 9s 1s/step - loss: 1.5293 - accuracy: 0.3350 - val_loss: 1.4342 - val_accuracy: 0.4600\n",
            "Epoch 101/200\n",
            "8/8 [==============================] - 10s 1s/step - loss: 1.4988 - accuracy: 0.3800 - val_loss: 1.3932 - val_accuracy: 0.5600\n",
            "Epoch 102/200\n",
            "8/8 [==============================] - 11s 1s/step - loss: 1.5060 - accuracy: 0.3125 - val_loss: 1.5006 - val_accuracy: 0.3600\n",
            "Epoch 103/200\n",
            "8/8 [==============================] - 10s 1s/step - loss: 1.5097 - accuracy: 0.3825 - val_loss: 1.3759 - val_accuracy: 0.5300\n",
            "Epoch 104/200\n",
            "8/8 [==============================] - 10s 1s/step - loss: 1.5183 - accuracy: 0.3100 - val_loss: 1.4251 - val_accuracy: 0.4800\n",
            "Epoch 105/200\n",
            "8/8 [==============================] - 9s 1s/step - loss: 1.5047 - accuracy: 0.3150 - val_loss: 1.4110 - val_accuracy: 0.4500\n",
            "Epoch 106/200\n",
            "8/8 [==============================] - 10s 1s/step - loss: 1.5072 - accuracy: 0.3750 - val_loss: 1.3968 - val_accuracy: 0.4200\n",
            "Epoch 107/200\n",
            "8/8 [==============================] - 10s 1s/step - loss: 1.5089 - accuracy: 0.3250 - val_loss: 1.4123 - val_accuracy: 0.5200\n",
            "Epoch 108/200\n",
            "8/8 [==============================] - 9s 1s/step - loss: 1.5069 - accuracy: 0.3300 - val_loss: 1.4179 - val_accuracy: 0.4300\n",
            "Epoch 109/200\n",
            "8/8 [==============================] - 10s 1s/step - loss: 1.4842 - accuracy: 0.3425 - val_loss: 1.3933 - val_accuracy: 0.4600\n",
            "Epoch 110/200\n",
            "8/8 [==============================] - 10s 1s/step - loss: 1.4704 - accuracy: 0.3400 - val_loss: 1.3774 - val_accuracy: 0.5100\n",
            "Epoch 111/200\n",
            "8/8 [==============================] - 10s 1s/step - loss: 1.4996 - accuracy: 0.3675 - val_loss: 1.3618 - val_accuracy: 0.4800\n",
            "Epoch 112/200\n",
            "8/8 [==============================] - 9s 1s/step - loss: 1.4812 - accuracy: 0.3375 - val_loss: 1.3989 - val_accuracy: 0.5000\n",
            "Epoch 113/200\n",
            "8/8 [==============================] - 9s 1s/step - loss: 1.4961 - accuracy: 0.3350 - val_loss: 1.3836 - val_accuracy: 0.4300\n",
            "Epoch 114/200\n",
            "8/8 [==============================] - 10s 1s/step - loss: 1.4740 - accuracy: 0.3425 - val_loss: 1.3292 - val_accuracy: 0.5800\n",
            "Epoch 115/200\n",
            "8/8 [==============================] - 9s 1s/step - loss: 1.4691 - accuracy: 0.3775 - val_loss: 1.4544 - val_accuracy: 0.3200\n",
            "Epoch 116/200\n",
            "8/8 [==============================] - 10s 1s/step - loss: 1.5043 - accuracy: 0.3150 - val_loss: 1.3817 - val_accuracy: 0.5000\n",
            "Epoch 117/200\n",
            "8/8 [==============================] - 9s 1s/step - loss: 1.5011 - accuracy: 0.3400 - val_loss: 1.3961 - val_accuracy: 0.5000\n",
            "Epoch 118/200\n",
            "8/8 [==============================] - 10s 1s/step - loss: 1.4802 - accuracy: 0.3600 - val_loss: 1.3356 - val_accuracy: 0.5300\n",
            "Epoch 119/200\n",
            "8/8 [==============================] - 10s 1s/step - loss: 1.4615 - accuracy: 0.3300 - val_loss: 1.4206 - val_accuracy: 0.4000\n",
            "Epoch 120/200\n",
            "8/8 [==============================] - 9s 1s/step - loss: 1.4488 - accuracy: 0.3450 - val_loss: 1.3622 - val_accuracy: 0.4300\n",
            "Epoch 121/200\n",
            "8/8 [==============================] - 10s 1s/step - loss: 1.4560 - accuracy: 0.3600 - val_loss: 1.3337 - val_accuracy: 0.4900\n",
            "Epoch 122/200\n",
            "8/8 [==============================] - 10s 1s/step - loss: 1.4458 - accuracy: 0.3975 - val_loss: 1.3400 - val_accuracy: 0.5000\n",
            "Epoch 123/200\n",
            "8/8 [==============================] - 10s 1s/step - loss: 1.4832 - accuracy: 0.3275 - val_loss: 1.3811 - val_accuracy: 0.4000\n",
            "Epoch 124/200\n",
            "8/8 [==============================] - 10s 1s/step - loss: 1.4419 - accuracy: 0.3425 - val_loss: 1.3856 - val_accuracy: 0.4800\n",
            "Epoch 125/200\n",
            "8/8 [==============================] - 10s 1s/step - loss: 1.4589 - accuracy: 0.3700 - val_loss: 1.3786 - val_accuracy: 0.4900\n",
            "Epoch 126/200\n",
            "8/8 [==============================] - 10s 1s/step - loss: 1.4175 - accuracy: 0.3600 - val_loss: 1.2782 - val_accuracy: 0.6100\n",
            "Epoch 127/200\n",
            "8/8 [==============================] - 10s 1s/step - loss: 1.5022 - accuracy: 0.3600 - val_loss: 1.3120 - val_accuracy: 0.4300\n",
            "Epoch 128/200\n",
            "8/8 [==============================] - 9s 1s/step - loss: 1.4827 - accuracy: 0.3500 - val_loss: 1.3413 - val_accuracy: 0.5000\n",
            "Epoch 129/200\n",
            "8/8 [==============================] - 10s 1s/step - loss: 1.4330 - accuracy: 0.3750 - val_loss: 1.2878 - val_accuracy: 0.5700\n",
            "Epoch 130/200\n",
            "8/8 [==============================] - 9s 1s/step - loss: 1.4605 - accuracy: 0.3825 - val_loss: 1.3185 - val_accuracy: 0.4900\n",
            "Epoch 131/200\n",
            "8/8 [==============================] - 9s 1s/step - loss: 1.4016 - accuracy: 0.3775 - val_loss: 1.3412 - val_accuracy: 0.3700\n",
            "Epoch 132/200\n",
            "8/8 [==============================] - 10s 1s/step - loss: 1.5084 - accuracy: 0.3350 - val_loss: 1.3252 - val_accuracy: 0.5100\n",
            "Epoch 133/200\n",
            "8/8 [==============================] - 9s 1s/step - loss: 1.4468 - accuracy: 0.3550 - val_loss: 1.2577 - val_accuracy: 0.5400\n",
            "Epoch 134/200\n",
            "8/8 [==============================] - 10s 1s/step - loss: 1.4477 - accuracy: 0.3825 - val_loss: 1.3295 - val_accuracy: 0.6000\n",
            "Epoch 135/200\n",
            "8/8 [==============================] - 10s 1s/step - loss: 1.4254 - accuracy: 0.4075 - val_loss: 1.2725 - val_accuracy: 0.5600\n",
            "Epoch 136/200\n",
            "8/8 [==============================] - 10s 1s/step - loss: 1.4681 - accuracy: 0.3650 - val_loss: 1.2147 - val_accuracy: 0.5800\n",
            "Epoch 137/200\n",
            "8/8 [==============================] - 10s 1s/step - loss: 1.4140 - accuracy: 0.3900 - val_loss: 1.3112 - val_accuracy: 0.4500\n",
            "Epoch 138/200\n",
            "8/8 [==============================] - 9s 1s/step - loss: 1.3868 - accuracy: 0.4350 - val_loss: 1.5329 - val_accuracy: 0.3000\n",
            "Epoch 139/200\n",
            "8/8 [==============================] - 10s 1s/step - loss: 1.4074 - accuracy: 0.3975 - val_loss: 1.3043 - val_accuracy: 0.4500\n",
            "Epoch 140/200\n",
            "8/8 [==============================] - 10s 1s/step - loss: 1.4134 - accuracy: 0.3725 - val_loss: 1.2542 - val_accuracy: 0.5400\n",
            "Epoch 141/200\n",
            "8/8 [==============================] - 9s 1s/step - loss: 1.4240 - accuracy: 0.4100 - val_loss: 1.3354 - val_accuracy: 0.4800\n",
            "Epoch 142/200\n",
            "8/8 [==============================] - 10s 1s/step - loss: 1.4273 - accuracy: 0.3925 - val_loss: 1.2921 - val_accuracy: 0.4700\n",
            "Epoch 143/200\n",
            "8/8 [==============================] - 10s 1s/step - loss: 1.4057 - accuracy: 0.3775 - val_loss: 1.3066 - val_accuracy: 0.5300\n",
            "Epoch 144/200\n",
            "8/8 [==============================] - 10s 1s/step - loss: 1.3948 - accuracy: 0.3925 - val_loss: 1.3059 - val_accuracy: 0.4800\n",
            "Epoch 145/200\n",
            "8/8 [==============================] - 10s 1s/step - loss: 1.4586 - accuracy: 0.3475 - val_loss: 1.2768 - val_accuracy: 0.5500\n",
            "Epoch 146/200\n",
            "8/8 [==============================] - 10s 1s/step - loss: 1.4309 - accuracy: 0.3975 - val_loss: 1.2857 - val_accuracy: 0.5700\n",
            "Epoch 147/200\n",
            "8/8 [==============================] - 9s 1s/step - loss: 1.3895 - accuracy: 0.3850 - val_loss: 1.1680 - val_accuracy: 0.5900\n",
            "Epoch 148/200\n",
            "8/8 [==============================] - 9s 1s/step - loss: 1.4343 - accuracy: 0.3775 - val_loss: 1.3340 - val_accuracy: 0.4000\n",
            "Epoch 149/200\n",
            "8/8 [==============================] - 9s 1s/step - loss: 1.4333 - accuracy: 0.3550 - val_loss: 1.2144 - val_accuracy: 0.5900\n",
            "Epoch 150/200\n",
            "8/8 [==============================] - 10s 1s/step - loss: 1.3818 - accuracy: 0.4000 - val_loss: 1.2428 - val_accuracy: 0.5200\n",
            "Epoch 151/200\n",
            "8/8 [==============================] - 10s 1s/step - loss: 1.3835 - accuracy: 0.3825 - val_loss: 1.1653 - val_accuracy: 0.6200\n",
            "Epoch 152/200\n",
            "8/8 [==============================] - 10s 1s/step - loss: 1.4106 - accuracy: 0.3600 - val_loss: 1.1259 - val_accuracy: 0.7000\n",
            "Epoch 153/200\n",
            "8/8 [==============================] - 10s 1s/step - loss: 1.4177 - accuracy: 0.3600 - val_loss: 1.2292 - val_accuracy: 0.5300\n",
            "Epoch 154/200\n",
            "8/8 [==============================] - 9s 1s/step - loss: 1.3747 - accuracy: 0.4450 - val_loss: 1.2039 - val_accuracy: 0.5300\n",
            "Epoch 155/200\n",
            "8/8 [==============================] - 10s 1s/step - loss: 1.3718 - accuracy: 0.3900 - val_loss: 1.2401 - val_accuracy: 0.5300\n",
            "Epoch 156/200\n",
            "8/8 [==============================] - 9s 1s/step - loss: 1.3962 - accuracy: 0.4275 - val_loss: 1.2782 - val_accuracy: 0.5000\n",
            "Epoch 157/200\n",
            "8/8 [==============================] - 9s 1s/step - loss: 1.3889 - accuracy: 0.4025 - val_loss: 1.3176 - val_accuracy: 0.4200\n",
            "Epoch 158/200\n",
            "8/8 [==============================] - 10s 1s/step - loss: 1.3906 - accuracy: 0.4225 - val_loss: 1.2350 - val_accuracy: 0.5800\n",
            "Epoch 159/200\n",
            "8/8 [==============================] - 9s 1s/step - loss: 1.3940 - accuracy: 0.4175 - val_loss: 1.2639 - val_accuracy: 0.5300\n",
            "Epoch 160/200\n",
            "8/8 [==============================] - 10s 1s/step - loss: 1.4172 - accuracy: 0.4000 - val_loss: 1.2396 - val_accuracy: 0.5700\n",
            "Epoch 161/200\n",
            "8/8 [==============================] - 10s 1s/step - loss: 1.4207 - accuracy: 0.3625 - val_loss: 1.1867 - val_accuracy: 0.6300\n",
            "Epoch 162/200\n",
            "8/8 [==============================] - 10s 1s/step - loss: 1.4377 - accuracy: 0.3800 - val_loss: 1.2782 - val_accuracy: 0.5300\n",
            "Epoch 163/200\n",
            "8/8 [==============================] - 9s 1s/step - loss: 1.3614 - accuracy: 0.4100 - val_loss: 1.3141 - val_accuracy: 0.5500\n",
            "Epoch 164/200\n",
            "8/8 [==============================] - 10s 1s/step - loss: 1.3779 - accuracy: 0.4025 - val_loss: 1.1306 - val_accuracy: 0.5800\n",
            "Epoch 165/200\n",
            "8/8 [==============================] - 9s 1s/step - loss: 1.4168 - accuracy: 0.3900 - val_loss: 1.1794 - val_accuracy: 0.6000\n",
            "Epoch 166/200\n",
            "8/8 [==============================] - 9s 1s/step - loss: 1.3778 - accuracy: 0.3850 - val_loss: 1.1915 - val_accuracy: 0.6000\n",
            "Epoch 167/200\n",
            "8/8 [==============================] - 10s 1s/step - loss: 1.3848 - accuracy: 0.4325 - val_loss: 1.2221 - val_accuracy: 0.5900\n",
            "Epoch 168/200\n",
            "8/8 [==============================] - 9s 1s/step - loss: 1.4023 - accuracy: 0.3950 - val_loss: 1.2121 - val_accuracy: 0.5300\n",
            "Epoch 169/200\n",
            "8/8 [==============================] - 10s 1s/step - loss: 1.4650 - accuracy: 0.3750 - val_loss: 1.2257 - val_accuracy: 0.6000\n",
            "Epoch 170/200\n",
            "8/8 [==============================] - 10s 1s/step - loss: 1.3848 - accuracy: 0.4175 - val_loss: 1.1873 - val_accuracy: 0.5000\n",
            "Epoch 171/200\n",
            "8/8 [==============================] - 9s 1s/step - loss: 1.3724 - accuracy: 0.4225 - val_loss: 1.1890 - val_accuracy: 0.5300\n",
            "Epoch 172/200\n",
            "8/8 [==============================] - 10s 1s/step - loss: 1.3327 - accuracy: 0.4550 - val_loss: 1.2128 - val_accuracy: 0.5200\n",
            "Epoch 173/200\n",
            "8/8 [==============================] - 9s 1s/step - loss: 1.4351 - accuracy: 0.3650 - val_loss: 1.2348 - val_accuracy: 0.5700\n",
            "Epoch 174/200\n",
            "8/8 [==============================] - 9s 1s/step - loss: 1.3859 - accuracy: 0.4050 - val_loss: 1.1951 - val_accuracy: 0.5200\n",
            "Epoch 175/200\n",
            "8/8 [==============================] - 10s 1s/step - loss: 1.3533 - accuracy: 0.4000 - val_loss: 1.3127 - val_accuracy: 0.4900\n",
            "Epoch 176/200\n",
            "8/8 [==============================] - 10s 1s/step - loss: 1.4019 - accuracy: 0.4125 - val_loss: 1.1919 - val_accuracy: 0.5600\n",
            "Epoch 177/200\n",
            "8/8 [==============================] - 9s 1s/step - loss: 1.3776 - accuracy: 0.4450 - val_loss: 1.1424 - val_accuracy: 0.5400\n",
            "Epoch 178/200\n",
            "8/8 [==============================] - 10s 1s/step - loss: 1.4008 - accuracy: 0.4275 - val_loss: 1.1573 - val_accuracy: 0.5400\n",
            "Epoch 179/200\n",
            "8/8 [==============================] - 10s 1s/step - loss: 1.4227 - accuracy: 0.3700 - val_loss: 1.1417 - val_accuracy: 0.5900\n",
            "Epoch 180/200\n",
            "8/8 [==============================] - 10s 1s/step - loss: 1.3459 - accuracy: 0.4375 - val_loss: 1.2311 - val_accuracy: 0.4900\n",
            "Epoch 181/200\n",
            "8/8 [==============================] - 10s 1s/step - loss: 1.3590 - accuracy: 0.4700 - val_loss: 1.1300 - val_accuracy: 0.6000\n",
            "Epoch 182/200\n",
            "8/8 [==============================] - 10s 1s/step - loss: 1.3948 - accuracy: 0.3800 - val_loss: 1.1029 - val_accuracy: 0.6300\n",
            "Epoch 183/200\n",
            "8/8 [==============================] - 9s 1s/step - loss: 1.3303 - accuracy: 0.4450 - val_loss: 1.1388 - val_accuracy: 0.5500\n",
            "Epoch 184/200\n",
            "8/8 [==============================] - 9s 1s/step - loss: 1.3299 - accuracy: 0.4500 - val_loss: 1.0921 - val_accuracy: 0.6500\n",
            "Epoch 185/200\n",
            "8/8 [==============================] - 10s 1s/step - loss: 1.3922 - accuracy: 0.4075 - val_loss: 1.2336 - val_accuracy: 0.4900\n",
            "Epoch 186/200\n",
            "8/8 [==============================] - 10s 1s/step - loss: 1.3479 - accuracy: 0.4250 - val_loss: 1.1047 - val_accuracy: 0.6600\n",
            "Epoch 187/200\n",
            "8/8 [==============================] - 9s 1s/step - loss: 1.3739 - accuracy: 0.4000 - val_loss: 1.2250 - val_accuracy: 0.6300\n",
            "Epoch 188/200\n",
            "8/8 [==============================] - 9s 1s/step - loss: 1.3481 - accuracy: 0.4175 - val_loss: 1.0967 - val_accuracy: 0.6200\n",
            "Epoch 189/200\n",
            "8/8 [==============================] - 10s 1s/step - loss: 1.3355 - accuracy: 0.4000 - val_loss: 1.1421 - val_accuracy: 0.5500\n",
            "Epoch 190/200\n",
            "8/8 [==============================] - 9s 1s/step - loss: 1.2993 - accuracy: 0.4575 - val_loss: 1.1894 - val_accuracy: 0.4600\n",
            "Epoch 191/200\n",
            "8/8 [==============================] - 10s 1s/step - loss: 1.4194 - accuracy: 0.3800 - val_loss: 1.1372 - val_accuracy: 0.6100\n",
            "Epoch 192/200\n",
            "8/8 [==============================] - 10s 1s/step - loss: 1.3700 - accuracy: 0.4375 - val_loss: 1.1464 - val_accuracy: 0.6100\n",
            "Epoch 193/200\n",
            "8/8 [==============================] - 10s 1s/step - loss: 1.3193 - accuracy: 0.4825 - val_loss: 1.0662 - val_accuracy: 0.6100\n",
            "Epoch 194/200\n",
            "8/8 [==============================] - 9s 1s/step - loss: 1.3482 - accuracy: 0.4325 - val_loss: 1.1029 - val_accuracy: 0.5800\n",
            "Epoch 195/200\n",
            "8/8 [==============================] - 10s 1s/step - loss: 1.3287 - accuracy: 0.4500 - val_loss: 1.0896 - val_accuracy: 0.6100\n",
            "Epoch 196/200\n",
            "8/8 [==============================] - 10s 1s/step - loss: 1.3274 - accuracy: 0.4400 - val_loss: 1.0911 - val_accuracy: 0.6300\n",
            "Epoch 197/200\n",
            "8/8 [==============================] - 10s 1s/step - loss: 1.3726 - accuracy: 0.4150 - val_loss: 1.2149 - val_accuracy: 0.5600\n",
            "Epoch 198/200\n",
            "8/8 [==============================] - 9s 1s/step - loss: 1.3303 - accuracy: 0.4500 - val_loss: 1.0977 - val_accuracy: 0.6100\n",
            "Epoch 199/200\n",
            "8/8 [==============================] - 9s 1s/step - loss: 1.2885 - accuracy: 0.4900 - val_loss: 1.0598 - val_accuracy: 0.6100\n",
            "Epoch 200/200\n",
            "8/8 [==============================] - 9s 1s/step - loss: 1.3039 - accuracy: 0.4525 - val_loss: 1.1496 - val_accuracy: 0.5100\n"
          ],
          "name": "stdout"
        }
      ]
    },
    {
      "cell_type": "code",
      "metadata": {
        "colab": {
          "base_uri": "https://localhost:8080/",
          "height": 545
        },
        "id": "7GCmSIR8vodF",
        "outputId": "59ae91f1-2002-403b-a4f9-bd91ed625c8c"
      },
      "source": [
        "import matplotlib.pyplot as plt\n",
        "acc = history.history['accuracy']\n",
        "val_acc = history.history['val_accuracy']\n",
        "loss = history.history['loss']\n",
        "val_loss = history.history['val_loss']\n",
        "\n",
        "epochs = range(len(acc))\n",
        "\n",
        "plt.plot(epochs, acc, 'r', label='Training accuracy')\n",
        "plt.plot(epochs, val_acc, 'b', label='Validation accuracy')\n",
        "plt.title('Training and validation accuracy')\n",
        "\n",
        "plt.figure()\n",
        "\n",
        "plt.plot(epochs, loss, 'r', label='Training Loss')\n",
        "plt.plot(epochs, val_loss, 'b', label='Validation Loss')\n",
        "plt.title('Training and validation loss')\n",
        "plt.legend()\n",
        "\n",
        "plt.show()"
      ],
      "execution_count": null,
      "outputs": [
        {
          "output_type": "display_data",
          "data": {
            "image/png": "[encoded data removed]",
            "text/plain": [
              "<Figure size 432x288 with 1 Axes>"
            ]
          },
          "metadata": {
            "tags": [],
            "needs_background": "light"
          }
        },
        {
          "output_type": "display_data",
          "data": {
            "image/png": "[encoded data removed]",
            "text/plain": [
              "<Figure size 432x288 with 1 Axes>"
            ]
          },
          "metadata": {
            "tags": [],
            "needs_background": "light"
          }
        }
      ]
    },
    {
      "cell_type": "code",
      "metadata": {
        "colab": {
          "base_uri": "https://localhost:8080/"
        },
        "id": "EmnR14PX8CDR",
        "outputId": "6f3d8f7b-3a50-4bf0-f6b2-795c41f9e932"
      },
      "source": [
        "# Generate a Saved Model\n",
        "import tensorflow as tf\n",
        "\n",
        "tf.saved_model.save(model, '/content/drive/MyDrive/MY model/TFLite Model')"
      ],
      "execution_count": null,
      "outputs": [
        {
          "output_type": "stream",
          "text": [
            "WARNING:tensorflow:FOR KERAS USERS: The object that you are saving contains one or more Keras models or layers. If you are loading the SavedModel with `tf.keras.models.load_model`, continue reading (otherwise, you may ignore the following instructions). Please change your code to save with `tf.keras.models.save_model` or `model.save`, and confirm that the file \"keras.metadata\" exists in the export directory. In the future, Keras will only load the SavedModels that have this file. In other words, `tf.saved_model.save` will no longer write SavedModels that can be recovered as Keras models (this will apply in TF 2.5).\n",
            "\n",
            "FOR DEVS: If you are overwriting _tracking_metadata in your class, this property has been used to save metadata in the SavedModel. The metadta field will be deprecated soon, so please move the metadata to a different file.\n",
            "INFO:tensorflow:Assets written to: /content/drive/MyDrive/MY model/TFLite Model/assets\n"
          ],
          "name": "stdout"
        }
      ]
    },
    {
      "cell_type": "code",
      "metadata": {
        "colab": {
          "base_uri": "https://localhost:8080/"
        },
        "id": "OFuMKZG68S2x",
        "outputId": "4885874e-7f1c-41c2-dd34-0a0cf448b378"
      },
      "source": [
        "import pathlib\n",
        "converter = tf.lite.TFLiteConverter.from_saved_model('/content/drive/MyDrive/MY model/TFLite Model')\n",
        "converter.optimizations = [tf.lite.Optimize.OPTIMIZE_FOR_SIZE]\n",
        "tflite_model = converter.convert()\n",
        "\n",
        "tflite_model_file = pathlib.Path('tf.lite')\n",
        "tflite_model_file.write_bytes(tflite_model)"
      ],
      "execution_count": null,
      "outputs": [
        {
          "output_type": "execute_result",
          "data": {
            "text/plain": [
              "296528"
            ]
          },
          "metadata": {
            "tags": []
          },
          "execution_count": 12
        }
      ]
    },
    {
      "cell_type": "code",
      "metadata": {
        "colab": {
          "base_uri": "https://localhost:8080/",
          "height": 34
        },
        "id": "3f1MTMcU9Ap1",
        "outputId": "38338991-5348-4f76-e67f-5fe9e205bda0"
      },
      "source": [
        "# Download TFlite \n",
        "\n",
        "from google.colab import files\n",
        "files.download(tflite_model_file)\n"
      ],
      "execution_count": null,
      "outputs": [
        {
          "output_type": "display_data",
          "data": {
            "application/javascript": [
              "\n",
              "    async function download(id, filename, size) {\n",
              "      if (!google.colab.kernel.accessAllowed) {\n",
              "        return;\n",
              "      }\n",
              "      const div = document.createElement('div');\n",
              "      const label = document.createElement('label');\n",
              "      label.textContent = `Downloading \"${filename}\": `;\n",
              "      div.appendChild(label);\n",
              "      const progress = document.createElement('progress');\n",
              "      progress.max = size;\n",
              "      div.appendChild(progress);\n",
              "      document.body.appendChild(div);\n",
              "\n",
              "      const buffers = [];\n",
              "      let downloaded = 0;\n",
              "\n",
              "      const channel = await google.colab.kernel.comms.open(id);\n",
              "      // Send a message to notify the kernel that we're ready.\n",
              "      channel.send({})\n",
              "\n",
              "      for await (const message of channel.messages) {\n",
              "        // Send a message to notify the kernel that we're ready.\n",
              "        channel.send({})\n",
              "        if (message.buffers) {\n",
              "          for (const buffer of message.buffers) {\n",
              "            buffers.push(buffer);\n",
              "            downloaded += buffer.byteLength;\n",
              "            progress.value = downloaded;\n",
              "          }\n",
              "        }\n",
              "      }\n",
              "      const blob = new Blob(buffers, {type: 'application/binary'});\n",
              "      const a = document.createElement('a');\n",
              "      a.href = window.URL.createObjectURL(blob);\n",
              "      a.download = filename;\n",
              "      div.appendChild(a);\n",
              "      a.click();\n",
              "      div.remove();\n",
              "    }\n",
              "  "
            ],
            "text/plain": [
              "<IPython.core.display.Javascript object>"
            ]
          },
          "metadata": {
            "tags": []
          }
        },
        {
          "output_type": "display_data",
          "data": {
            "application/javascript": [
              "download(\"download_13215851-ff75-459a-bdd8-759d2019e897\", \"tf.lite\", 296528)"
            ],
            "text/plain": [
              "<IPython.core.display.Javascript object>"
            ]
          },
          "metadata": {
            "tags": []
          }
        }
      ]
    }
  ]
}