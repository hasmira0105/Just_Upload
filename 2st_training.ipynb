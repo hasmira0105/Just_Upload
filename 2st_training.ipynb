{
  "nbformat": 4,
  "nbformat_minor": 0,
  "metadata": {
    "colab": {
      "name": "1st_training.ipynb",
      "provenance": [],
      "authorship_tag": "ABX9TyOzNqeYNDZIRhjdpJ9MAvAJ",
      "include_colab_link": true
    },
    "kernelspec": {
      "name": "python3",
      "display_name": "Python 3"
    },
    "language_info": {
      "name": "python"
    },
    "accelerator": "GPU"
  },
  "cells": [
    {
      "cell_type": "markdown",
      "metadata": {
        "id": "view-in-github",
        "colab_type": "text"
      },
      "source": [
        "<a href=\"https://colab.research.google.com/github/hasmira0105/Public-repo/blob/main/2st_training.ipynb\" target=\"_parent\"><img src=\"https://colab.research.google.com/assets/colab-badge.svg\" alt=\"Open In Colab\"/></a>"
      ]
    },
    {
      "cell_type": "markdown",
      "metadata": {
        "id": "Pu3nGMC3SZT3"
      },
      "source": [
        "Mount drive to collab"
      ]
    },
    {
      "cell_type": "code",
      "metadata": {
        "colab": {
          "base_uri": "https://localhost:8080/"
        },
        "id": "iA49Q8JQRuOE",
        "outputId": "8fd09345-45c7-4014-aad5-659b0a7107fb"
      },
      "source": [
        "from google.colab import drive\n",
        "drive.mount('/content/drive')"
      ],
      "execution_count": 1,
      "outputs": [
        {
          "output_type": "stream",
          "text": [
            "Mounted at /content/drive\n"
          ],
          "name": "stdout"
        }
      ]
    },
    {
      "cell_type": "markdown",
      "metadata": {
        "id": "7ZYwPIdbSoQq"
      },
      "source": [
        "Preprocessing dataset and deploy apply image augmentation"
      ]
    },
    {
      "cell_type": "code",
      "metadata": {
        "colab": {
          "base_uri": "https://localhost:8080/"
        },
        "id": "HJ_pH2YlSwWu",
        "outputId": "216a41e2-8cae-4c5c-dd4e-fec5e9a5baec"
      },
      "source": [
        "from tensorflow.keras.preprocessing.image import ImageDataGenerator\n",
        "\n",
        "train = ImageDataGenerator(\n",
        "      rescale=1./255,\n",
        "      rotation_range=40,\n",
        "      width_shift_range=0.2,\n",
        "      height_shift_range=0.2,\n",
        "      shear_range=0.2,\n",
        "      zoom_range=0.2,\n",
        "      horizontal_flip=True,\n",
        "      fill_mode='nearest')\n",
        "\n",
        "validation = ImageDataGenerator(rescale=1/255)\n",
        "\n",
        "\n",
        "training_dataset = train.flow_from_directory(\n",
        "    '/content/drive/MyDrive/Dataset1/Train',\n",
        "    target_size = (300, 300),\n",
        "    batch_size = 50,\n",
        "    class_mode = 'categorical'\n",
        ")\n",
        "\n",
        "validation_dataset = validation.flow_from_directory(\n",
        "    '/content/drive/MyDrive/Dataset1/Validation',\n",
        "    target_size = (300, 300),\n",
        "    batch_size = 50,\n",
        "    class_mode = 'categorical'\n",
        ")"
      ],
      "execution_count": 2,
      "outputs": [
        {
          "output_type": "stream",
          "text": [
            "Found 1200 images belonging to 3 classes.\n",
            "Found 300 images belonging to 3 classes.\n"
          ],
          "name": "stdout"
        }
      ]
    },
    {
      "cell_type": "markdown",
      "metadata": {
        "id": "UY9dqFVbTIDn"
      },
      "source": [
        "Creating the model"
      ]
    },
    {
      "cell_type": "code",
      "metadata": {
        "id": "uBCJsE6hTJ9h"
      },
      "source": [
        "import tensorflow as tf\n",
        "\n",
        "model = tf.keras.models.Sequential([\n",
        "    tf.keras.layers.Conv2D(16, (3,3), activation='relu', input_shape=(300, 300, 3)),\n",
        "    tf.keras.layers.MaxPooling2D(2, 2),\n",
        "    tf.keras.layers.Conv2D(32, (3,3), activation='relu'),\n",
        "    tf.keras.layers.MaxPooling2D(2,2),\n",
        "    tf.keras.layers.Flatten(),\n",
        "    tf.keras.layers.Dense(512, activation='relu'),\n",
        "    tf.keras.layers.Dense(3, activation='softmax')\n",
        "])"
      ],
      "execution_count": 3,
      "outputs": []
    },
    {
      "cell_type": "markdown",
      "metadata": {
        "id": "Z8zdvS5yTRu-"
      },
      "source": [
        "Compile the model"
      ]
    },
    {
      "cell_type": "code",
      "metadata": {
        "id": "J_ta-RhlTPCI"
      },
      "source": [
        "model.compile(optimizer='adam', loss='categorical_crossentropy', metrics=['accuracy'])"
      ],
      "execution_count": 4,
      "outputs": []
    },
    {
      "cell_type": "markdown",
      "metadata": {
        "id": "We8kGTs0TuLg"
      },
      "source": [
        "Train the dataset"
      ]
    },
    {
      "cell_type": "code",
      "metadata": {
        "colab": {
          "base_uri": "https://localhost:8080/"
        },
        "id": "aLtr3bSwTqQp",
        "outputId": "1fe851d3-6eab-4bc5-a1f7-7564b4821406"
      },
      "source": [
        "history = model.fit(\n",
        "    training_dataset,\n",
        "    steps_per_epoch = 8,\n",
        "    epochs = 50,\n",
        "    verbose = 1,\n",
        "    validation_data = validation_dataset,\n",
        "    validation_steps = 2\n",
        ")"
      ],
      "execution_count": 5,
      "outputs": [
        {
          "output_type": "stream",
          "text": [
            "Epoch 1/50\n",
            "8/8 [==============================] - 209s 23s/step - loss: 29.5899 - accuracy: 0.3151 - val_loss: 12.9803 - val_accuracy: 0.3400\n",
            "Epoch 2/50\n",
            "8/8 [==============================] - 114s 15s/step - loss: 6.9251 - accuracy: 0.3473 - val_loss: 2.5242 - val_accuracy: 0.3100\n",
            "Epoch 3/50\n",
            "8/8 [==============================] - 73s 9s/step - loss: 1.7240 - accuracy: 0.3877 - val_loss: 1.3516 - val_accuracy: 0.3300\n",
            "Epoch 4/50\n",
            "8/8 [==============================] - 46s 6s/step - loss: 1.2239 - accuracy: 0.3308 - val_loss: 1.0315 - val_accuracy: 0.5200\n",
            "Epoch 5/50\n",
            "8/8 [==============================] - 28s 4s/step - loss: 1.0707 - accuracy: 0.4261 - val_loss: 1.0558 - val_accuracy: 0.4200\n",
            "Epoch 6/50\n",
            "8/8 [==============================] - 23s 3s/step - loss: 1.0418 - accuracy: 0.4411 - val_loss: 1.0028 - val_accuracy: 0.5200\n",
            "Epoch 7/50\n",
            "8/8 [==============================] - 17s 2s/step - loss: 0.9812 - accuracy: 0.5391 - val_loss: 0.9097 - val_accuracy: 0.5900\n",
            "Epoch 8/50\n",
            "8/8 [==============================] - 15s 2s/step - loss: 1.0052 - accuracy: 0.4681 - val_loss: 1.0127 - val_accuracy: 0.4900\n",
            "Epoch 9/50\n",
            "8/8 [==============================] - 12s 2s/step - loss: 0.9818 - accuracy: 0.4913 - val_loss: 0.8627 - val_accuracy: 0.5900\n",
            "Epoch 10/50\n",
            "8/8 [==============================] - 11s 1s/step - loss: 0.9275 - accuracy: 0.5707 - val_loss: 0.8818 - val_accuracy: 0.6300\n",
            "Epoch 11/50\n",
            "8/8 [==============================] - 11s 1s/step - loss: 0.9017 - accuracy: 0.5262 - val_loss: 0.9095 - val_accuracy: 0.5900\n",
            "Epoch 12/50\n",
            "8/8 [==============================] - 10s 1s/step - loss: 0.9486 - accuracy: 0.5175 - val_loss: 0.8983 - val_accuracy: 0.6000\n",
            "Epoch 13/50\n",
            "8/8 [==============================] - 10s 1s/step - loss: 0.9921 - accuracy: 0.4846 - val_loss: 0.9450 - val_accuracy: 0.5600\n",
            "Epoch 14/50\n",
            "8/8 [==============================] - 10s 1s/step - loss: 0.9152 - accuracy: 0.5439 - val_loss: 0.8367 - val_accuracy: 0.6700\n",
            "Epoch 15/50\n",
            "8/8 [==============================] - 10s 1s/step - loss: 0.8840 - accuracy: 0.5754 - val_loss: 0.9284 - val_accuracy: 0.6100\n",
            "Epoch 16/50\n",
            "8/8 [==============================] - 9s 1s/step - loss: 0.9142 - accuracy: 0.5609 - val_loss: 0.8606 - val_accuracy: 0.6300\n",
            "Epoch 17/50\n",
            "8/8 [==============================] - 9s 1s/step - loss: 0.8488 - accuracy: 0.6295 - val_loss: 0.8620 - val_accuracy: 0.6900\n",
            "Epoch 18/50\n",
            "8/8 [==============================] - 10s 1s/step - loss: 0.9840 - accuracy: 0.5140 - val_loss: 0.8827 - val_accuracy: 0.6100\n",
            "Epoch 19/50\n",
            "8/8 [==============================] - 10s 1s/step - loss: 0.8544 - accuracy: 0.5937 - val_loss: 0.8022 - val_accuracy: 0.6400\n",
            "Epoch 20/50\n",
            "8/8 [==============================] - 9s 1s/step - loss: 0.8928 - accuracy: 0.5727 - val_loss: 0.8760 - val_accuracy: 0.6100\n",
            "Epoch 21/50\n",
            "8/8 [==============================] - 9s 1s/step - loss: 0.9362 - accuracy: 0.5570 - val_loss: 0.7690 - val_accuracy: 0.6700\n",
            "Epoch 22/50\n",
            "8/8 [==============================] - 9s 1s/step - loss: 0.8764 - accuracy: 0.5932 - val_loss: 0.8405 - val_accuracy: 0.6100\n",
            "Epoch 23/50\n",
            "8/8 [==============================] - 10s 1s/step - loss: 0.8866 - accuracy: 0.5986 - val_loss: 0.8346 - val_accuracy: 0.6100\n",
            "Epoch 24/50\n",
            "8/8 [==============================] - 9s 1s/step - loss: 0.8664 - accuracy: 0.6072 - val_loss: 0.7751 - val_accuracy: 0.6700\n",
            "Epoch 25/50\n",
            "8/8 [==============================] - 10s 1s/step - loss: 0.8473 - accuracy: 0.5967 - val_loss: 0.9588 - val_accuracy: 0.6000\n",
            "Epoch 26/50\n",
            "8/8 [==============================] - 10s 1s/step - loss: 0.8431 - accuracy: 0.6272 - val_loss: 0.7298 - val_accuracy: 0.6900\n",
            "Epoch 27/50\n",
            "8/8 [==============================] - 10s 1s/step - loss: 0.8208 - accuracy: 0.6283 - val_loss: 0.8408 - val_accuracy: 0.6300\n",
            "Epoch 28/50\n",
            "8/8 [==============================] - 9s 1s/step - loss: 0.8417 - accuracy: 0.6055 - val_loss: 0.8894 - val_accuracy: 0.5600\n",
            "Epoch 29/50\n",
            "8/8 [==============================] - 9s 1s/step - loss: 0.7856 - accuracy: 0.6574 - val_loss: 0.7445 - val_accuracy: 0.6500\n",
            "Epoch 30/50\n",
            "8/8 [==============================] - 10s 1s/step - loss: 0.8864 - accuracy: 0.6136 - val_loss: 0.8816 - val_accuracy: 0.6200\n",
            "Epoch 31/50\n",
            "8/8 [==============================] - 9s 1s/step - loss: 0.8444 - accuracy: 0.6017 - val_loss: 0.7450 - val_accuracy: 0.6800\n",
            "Epoch 32/50\n",
            "8/8 [==============================] - 9s 1s/step - loss: 0.7552 - accuracy: 0.6717 - val_loss: 0.7240 - val_accuracy: 0.7100\n",
            "Epoch 33/50\n",
            "8/8 [==============================] - 10s 1s/step - loss: 0.7200 - accuracy: 0.6719 - val_loss: 0.7405 - val_accuracy: 0.7400\n",
            "Epoch 34/50\n",
            "8/8 [==============================] - 9s 1s/step - loss: 0.8707 - accuracy: 0.6103 - val_loss: 0.7490 - val_accuracy: 0.6400\n",
            "Epoch 35/50\n",
            "8/8 [==============================] - 10s 1s/step - loss: 0.8797 - accuracy: 0.5945 - val_loss: 0.8152 - val_accuracy: 0.6300\n",
            "Epoch 36/50\n",
            "8/8 [==============================] - 9s 1s/step - loss: 0.8130 - accuracy: 0.6056 - val_loss: 0.6628 - val_accuracy: 0.7300\n",
            "Epoch 37/50\n",
            "8/8 [==============================] - 10s 1s/step - loss: 0.8026 - accuracy: 0.5905 - val_loss: 0.7008 - val_accuracy: 0.6600\n",
            "Epoch 38/50\n",
            "8/8 [==============================] - 10s 1s/step - loss: 0.8449 - accuracy: 0.6029 - val_loss: 0.6010 - val_accuracy: 0.8000\n",
            "Epoch 39/50\n",
            "8/8 [==============================] - 9s 1s/step - loss: 0.8065 - accuracy: 0.6426 - val_loss: 0.6978 - val_accuracy: 0.6700\n",
            "Epoch 40/50\n",
            "8/8 [==============================] - 10s 1s/step - loss: 0.7458 - accuracy: 0.6555 - val_loss: 0.6440 - val_accuracy: 0.7400\n",
            "Epoch 41/50\n",
            "8/8 [==============================] - 10s 1s/step - loss: 0.7542 - accuracy: 0.6332 - val_loss: 0.7649 - val_accuracy: 0.6100\n",
            "Epoch 42/50\n",
            "8/8 [==============================] - 10s 1s/step - loss: 0.7632 - accuracy: 0.6559 - val_loss: 0.7075 - val_accuracy: 0.6700\n",
            "Epoch 43/50\n",
            "8/8 [==============================] - 9s 1s/step - loss: 0.6843 - accuracy: 0.7060 - val_loss: 0.6387 - val_accuracy: 0.7500\n",
            "Epoch 44/50\n",
            "8/8 [==============================] - 10s 1s/step - loss: 0.6908 - accuracy: 0.6818 - val_loss: 0.8203 - val_accuracy: 0.6900\n",
            "Epoch 45/50\n",
            "8/8 [==============================] - 9s 1s/step - loss: 0.7637 - accuracy: 0.6482 - val_loss: 0.6681 - val_accuracy: 0.6900\n",
            "Epoch 46/50\n",
            "8/8 [==============================] - 9s 1s/step - loss: 0.7766 - accuracy: 0.6724 - val_loss: 0.6898 - val_accuracy: 0.6900\n",
            "Epoch 47/50\n",
            "8/8 [==============================] - 9s 1s/step - loss: 0.7813 - accuracy: 0.6703 - val_loss: 0.6115 - val_accuracy: 0.7300\n",
            "Epoch 48/50\n",
            "8/8 [==============================] - 9s 1s/step - loss: 0.7782 - accuracy: 0.6721 - val_loss: 0.8072 - val_accuracy: 0.6200\n",
            "Epoch 49/50\n",
            "8/8 [==============================] - 9s 1s/step - loss: 0.7029 - accuracy: 0.6912 - val_loss: 0.5825 - val_accuracy: 0.7500\n",
            "Epoch 50/50\n",
            "8/8 [==============================] - 9s 1s/step - loss: 0.7311 - accuracy: 0.6605 - val_loss: 0.6502 - val_accuracy: 0.6900\n"
          ],
          "name": "stdout"
        }
      ]
    },
    {
      "cell_type": "markdown",
      "metadata": {
        "id": "Lhrhov_iUlQQ"
      },
      "source": [
        ""
      ]
    },
    {
      "cell_type": "code",
      "metadata": {
        "colab": {
          "base_uri": "https://localhost:8080/",
          "height": 545
        },
        "id": "7nPMcXN-UoKR",
        "outputId": "8369c2ef-c79a-48ca-e868-adca606bc21b"
      },
      "source": [
        "import matplotlib.pyplot as plt\n",
        "acc = history.history['accuracy']\n",
        "val_acc = history.history['val_accuracy']\n",
        "loss = history.history['loss']\n",
        "val_loss = history.history['val_loss']\n",
        "\n",
        "epochs = range(len(acc))\n",
        "\n",
        "plt.plot(epochs, acc, 'r', label='Training accuracy')\n",
        "plt.plot(epochs, val_acc, 'b', label='Validation accuracy')\n",
        "plt.title('Training and validation accuracy')\n",
        "\n",
        "plt.figure()\n",
        "\n",
        "plt.plot(epochs, loss, 'r', label='Training Loss')\n",
        "plt.plot(epochs, val_loss, 'b', label='Validation Loss')\n",
        "plt.title('Training and validation loss')\n",
        "plt.legend()\n",
        "\n",
        "plt.show()"
      ],
      "execution_count": 6,
      "outputs": [
        {
          "output_type": "display_data",
          "data": {
            "image/png": "[encoded data removed]",
            "text/plain": [
              "<Figure size 432x288 with 1 Axes>"
            ]
          },
          "metadata": {
            "tags": [],
            "needs_background": "light"
          }
        },
        {
          "output_type": "display_data",
          "data": {
            "image/png": "[encoded data removed]",
            "text/plain": [
              "<Figure size 432x288 with 1 Axes>"
            ]
          },
          "metadata": {
            "tags": [],
            "needs_background": "light"
          }
        }
      ]
    },
    {
      "cell_type": "code",
      "metadata": {
        "id": "zN59_B9cUplh"
      },
      "source": [
        ""
      ],
      "execution_count": null,
      "outputs": []
    }
  ]
}