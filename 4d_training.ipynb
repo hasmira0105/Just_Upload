{
  "nbformat": 4,
  "nbformat_minor": 0,
  "metadata": {
    "colab": {
      "name": "3rd_training.ipynb",
      "provenance": [],
      "collapsed_sections": [],
      "authorship_tag": "ABX9TyPWUTNWe2RR4dN4LQJdrZ+C",
      "include_colab_link": true
    },
    "kernelspec": {
      "name": "python3",
      "display_name": "Python 3"
    },
    "language_info": {
      "name": "python"
    },
    "accelerator": "GPU"
  },
  "cells": [
    {
      "cell_type": "markdown",
      "metadata": {
        "id": "view-in-github",
        "colab_type": "text"
      },
      "source": [
        "<a href=\"https://colab.research.google.com/github/hasmira0105/Public-repo/blob/main/4d_training.ipynb\" target=\"_parent\"><img src=\"https://colab.research.google.com/assets/colab-badge.svg\" alt=\"Open In Colab\"/></a>"
      ]
    },
    {
      "cell_type": "markdown",
      "metadata": {
        "id": "Pu3nGMC3SZT3"
      },
      "source": [
        "Mount drive to collab"
      ]
    },
    {
      "cell_type": "code",
      "metadata": {
        "colab": {
          "base_uri": "https://localhost:8080/"
        },
        "id": "iA49Q8JQRuOE",
        "outputId": "ed991d52-5219-4088-aca1-d50013c41a08"
      },
      "source": [
        "from google.colab import drive\n",
        "drive.mount('/content/drive')"
      ],
      "execution_count": 1,
      "outputs": [
        {
          "output_type": "stream",
          "text": [
            "Mounted at /content/drive\n"
          ],
          "name": "stdout"
        }
      ]
    },
    {
      "cell_type": "markdown",
      "metadata": {
        "id": "7ZYwPIdbSoQq"
      },
      "source": [
        "Preprocessing dataset and deploy apply image augmentation"
      ]
    },
    {
      "cell_type": "code",
      "metadata": {
        "colab": {
          "base_uri": "https://localhost:8080/"
        },
        "id": "HJ_pH2YlSwWu",
        "outputId": "91421da1-11d0-4c41-8ce3-d396691faa01"
      },
      "source": [
        "from tensorflow.keras.preprocessing.image import ImageDataGenerator\n",
        "\n",
        "train = ImageDataGenerator(\n",
        "      rescale=1./255,\n",
        "      rotation_range=40,\n",
        "      width_shift_range=0.2,\n",
        "      height_shift_range=0.2,\n",
        "      shear_range=0.2,\n",
        "      zoom_range=0.2,\n",
        "      horizontal_flip=True,\n",
        "      fill_mode='nearest')\n",
        "\n",
        "validation = ImageDataGenerator(rescale=1/255)\n",
        "\n",
        "\n",
        "training_dataset = train.flow_from_directory(\n",
        "    '/content/drive/MyDrive/Dataset1/Train',\n",
        "    target_size = (300, 300),\n",
        "    batch_size = 50,\n",
        "    class_mode = 'categorical'\n",
        ")\n",
        "\n",
        "validation_dataset = validation.flow_from_directory(\n",
        "    '/content/drive/MyDrive/Dataset1/Validation',\n",
        "    target_size = (300, 300),\n",
        "    batch_size = 50,\n",
        "    class_mode = 'categorical'\n",
        ")"
      ],
      "execution_count": 2,
      "outputs": [
        {
          "output_type": "stream",
          "text": [
            "Found 2000 images belonging to 5 classes.\n",
            "Found 500 images belonging to 5 classes.\n"
          ],
          "name": "stdout"
        }
      ]
    },
    {
      "cell_type": "markdown",
      "metadata": {
        "id": "UY9dqFVbTIDn"
      },
      "source": [
        "Creating the model"
      ]
    },
    {
      "cell_type": "code",
      "metadata": {
        "id": "uBCJsE6hTJ9h"
      },
      "source": [
        "import tensorflow as tf\n",
        "\n",
        "model = tf.keras.models.Sequential([\n",
        "    tf.keras.layers.Conv2D(16, (3,3), activation='relu', input_shape=(300, 300, 3)),\n",
        "    tf.keras.layers.MaxPooling2D(2, 2),\n",
        "    tf.keras.layers.Conv2D(32, (3,3), activation='relu'),\n",
        "    tf.keras.layers.MaxPooling2D(2,2),\n",
        "    tf.keras.layers.Flatten(),\n",
        "    tf.keras.layers.Dense(512, activation='relu'),\n",
        "    tf.keras.layers.Dense(5, activation='softmax')\n",
        "])"
      ],
      "execution_count": 3,
      "outputs": []
    },
    {
      "cell_type": "markdown",
      "metadata": {
        "id": "Z8zdvS5yTRu-"
      },
      "source": [
        "Compile the model"
      ]
    },
    {
      "cell_type": "code",
      "metadata": {
        "id": "J_ta-RhlTPCI"
      },
      "source": [
        "model.compile(optimizer='adam', loss='categorical_crossentropy', metrics=['accuracy'])"
      ],
      "execution_count": 4,
      "outputs": []
    },
    {
      "cell_type": "markdown",
      "metadata": {
        "id": "We8kGTs0TuLg"
      },
      "source": [
        "Train the dataset"
      ]
    },
    {
      "cell_type": "code",
      "metadata": {
        "colab": {
          "base_uri": "https://localhost:8080/"
        },
        "id": "aLtr3bSwTqQp",
        "outputId": "aabe5639-c653-4d4d-a7a2-0413e1c33ac0"
      },
      "source": [
        "history = model.fit(\n",
        "    training_dataset,\n",
        "    steps_per_epoch = 8,\n",
        "    epochs = 200,\n",
        "    verbose = 1,\n",
        "    validation_data = validation_dataset,\n",
        "    validation_steps = 2\n",
        ")"
      ],
      "execution_count": 5,
      "outputs": [
        {
          "output_type": "stream",
          "text": [
            "Epoch 1/200\n",
            "8/8 [==============================] - 220s 24s/step - loss: 17.2510 - accuracy: 0.1850 - val_loss: 4.4953 - val_accuracy: 0.3500\n",
            "Epoch 2/200\n",
            "8/8 [==============================] - 146s 19s/step - loss: 2.7355 - accuracy: 0.2375 - val_loss: 1.5582 - val_accuracy: 0.3300\n",
            "Epoch 3/200\n",
            "8/8 [==============================] - 100s 13s/step - loss: 1.5897 - accuracy: 0.2700 - val_loss: 1.5712 - val_accuracy: 0.3400\n",
            "Epoch 4/200\n",
            "8/8 [==============================] - 88s 11s/step - loss: 1.5638 - accuracy: 0.3600 - val_loss: 1.5108 - val_accuracy: 0.3200\n",
            "Epoch 5/200\n",
            "8/8 [==============================] - 65s 8s/step - loss: 1.5405 - accuracy: 0.2750 - val_loss: 1.4615 - val_accuracy: 0.3200\n",
            "Epoch 6/200\n",
            "8/8 [==============================] - 55s 7s/step - loss: 1.4726 - accuracy: 0.3550 - val_loss: 1.2862 - val_accuracy: 0.5200\n",
            "Epoch 7/200\n",
            "8/8 [==============================] - 46s 6s/step - loss: 1.3938 - accuracy: 0.4125 - val_loss: 1.2419 - val_accuracy: 0.5100\n",
            "Epoch 8/200\n",
            "8/8 [==============================] - 39s 5s/step - loss: 1.3619 - accuracy: 0.4175 - val_loss: 1.1539 - val_accuracy: 0.5700\n",
            "Epoch 9/200\n",
            "8/8 [==============================] - 29s 4s/step - loss: 1.3177 - accuracy: 0.4625 - val_loss: 1.1592 - val_accuracy: 0.5400\n",
            "Epoch 10/200\n",
            "8/8 [==============================] - 23s 3s/step - loss: 1.2968 - accuracy: 0.4375 - val_loss: 1.1547 - val_accuracy: 0.5400\n",
            "Epoch 11/200\n",
            "8/8 [==============================] - 22s 3s/step - loss: 1.3148 - accuracy: 0.4775 - val_loss: 1.0592 - val_accuracy: 0.6500\n",
            "Epoch 12/200\n",
            "8/8 [==============================] - 18s 2s/step - loss: 1.2848 - accuracy: 0.4650 - val_loss: 1.0859 - val_accuracy: 0.5800\n",
            "Epoch 13/200\n",
            "8/8 [==============================] - 16s 2s/step - loss: 1.2896 - accuracy: 0.4775 - val_loss: 1.1522 - val_accuracy: 0.5200\n",
            "Epoch 14/200\n",
            "8/8 [==============================] - 14s 2s/step - loss: 1.1903 - accuracy: 0.5200 - val_loss: 1.1796 - val_accuracy: 0.5600\n",
            "Epoch 15/200\n",
            "8/8 [==============================] - 14s 2s/step - loss: 1.2372 - accuracy: 0.4850 - val_loss: 1.0550 - val_accuracy: 0.6600\n",
            "Epoch 16/200\n",
            "8/8 [==============================] - 14s 2s/step - loss: 1.2339 - accuracy: 0.5150 - val_loss: 1.1298 - val_accuracy: 0.6000\n",
            "Epoch 17/200\n",
            "8/8 [==============================] - 11s 1s/step - loss: 1.1418 - accuracy: 0.5325 - val_loss: 1.2733 - val_accuracy: 0.4800\n",
            "Epoch 18/200\n",
            "8/8 [==============================] - 12s 2s/step - loss: 1.1691 - accuracy: 0.4925 - val_loss: 1.0523 - val_accuracy: 0.6500\n",
            "Epoch 19/200\n",
            "8/8 [==============================] - 10s 1s/step - loss: 1.1905 - accuracy: 0.5100 - val_loss: 1.2063 - val_accuracy: 0.5100\n",
            "Epoch 20/200\n",
            "8/8 [==============================] - 10s 1s/step - loss: 1.2485 - accuracy: 0.4700 - val_loss: 1.0723 - val_accuracy: 0.5900\n",
            "Epoch 21/200\n",
            "8/8 [==============================] - 10s 1s/step - loss: 1.1975 - accuracy: 0.5100 - val_loss: 1.3026 - val_accuracy: 0.5500\n",
            "Epoch 22/200\n",
            "8/8 [==============================] - 10s 1s/step - loss: 1.1521 - accuracy: 0.5175 - val_loss: 1.1316 - val_accuracy: 0.5800\n",
            "Epoch 23/200\n",
            "8/8 [==============================] - 10s 1s/step - loss: 1.1422 - accuracy: 0.5325 - val_loss: 0.9951 - val_accuracy: 0.6800\n",
            "Epoch 24/200\n",
            "8/8 [==============================] - 10s 1s/step - loss: 1.2102 - accuracy: 0.5350 - val_loss: 1.2125 - val_accuracy: 0.5400\n",
            "Epoch 25/200\n",
            "8/8 [==============================] - 10s 1s/step - loss: 1.1719 - accuracy: 0.5200 - val_loss: 1.0317 - val_accuracy: 0.6100\n",
            "Epoch 26/200\n",
            "8/8 [==============================] - 10s 1s/step - loss: 1.0987 - accuracy: 0.5475 - val_loss: 1.0179 - val_accuracy: 0.6500\n",
            "Epoch 27/200\n",
            "8/8 [==============================] - 10s 1s/step - loss: 1.1301 - accuracy: 0.5300 - val_loss: 1.1185 - val_accuracy: 0.6100\n",
            "Epoch 28/200\n",
            "8/8 [==============================] - 10s 1s/step - loss: 1.1066 - accuracy: 0.5775 - val_loss: 1.0061 - val_accuracy: 0.6400\n",
            "Epoch 29/200\n",
            "8/8 [==============================] - 10s 1s/step - loss: 1.0967 - accuracy: 0.5525 - val_loss: 0.9472 - val_accuracy: 0.6000\n",
            "Epoch 30/200\n",
            "8/8 [==============================] - 10s 1s/step - loss: 1.0888 - accuracy: 0.5825 - val_loss: 0.7711 - val_accuracy: 0.7200\n",
            "Epoch 31/200\n",
            "8/8 [==============================] - 10s 1s/step - loss: 1.0773 - accuracy: 0.5675 - val_loss: 0.8636 - val_accuracy: 0.6400\n",
            "Epoch 32/200\n",
            "8/8 [==============================] - 10s 1s/step - loss: 1.0310 - accuracy: 0.5750 - val_loss: 0.7989 - val_accuracy: 0.7000\n",
            "Epoch 33/200\n",
            "8/8 [==============================] - 10s 1s/step - loss: 1.0325 - accuracy: 0.5825 - val_loss: 0.8675 - val_accuracy: 0.7000\n",
            "Epoch 34/200\n",
            "8/8 [==============================] - 10s 1s/step - loss: 1.0594 - accuracy: 0.5825 - val_loss: 0.8310 - val_accuracy: 0.6900\n",
            "Epoch 35/200\n",
            "8/8 [==============================] - 10s 1s/step - loss: 1.0862 - accuracy: 0.5600 - val_loss: 0.8527 - val_accuracy: 0.6400\n",
            "Epoch 36/200\n",
            "8/8 [==============================] - 10s 1s/step - loss: 1.0078 - accuracy: 0.5925 - val_loss: 1.1959 - val_accuracy: 0.5700\n",
            "Epoch 37/200\n",
            "8/8 [==============================] - 10s 1s/step - loss: 1.0638 - accuracy: 0.5750 - val_loss: 0.9355 - val_accuracy: 0.6900\n",
            "Epoch 38/200\n",
            "8/8 [==============================] - 10s 1s/step - loss: 1.0979 - accuracy: 0.5575 - val_loss: 1.0259 - val_accuracy: 0.6300\n",
            "Epoch 39/200\n",
            "8/8 [==============================] - 10s 1s/step - loss: 0.9991 - accuracy: 0.5975 - val_loss: 0.7030 - val_accuracy: 0.7400\n",
            "Epoch 40/200\n",
            "8/8 [==============================] - 10s 1s/step - loss: 0.9999 - accuracy: 0.6050 - val_loss: 0.7725 - val_accuracy: 0.6600\n",
            "Epoch 41/200\n",
            "8/8 [==============================] - 10s 1s/step - loss: 1.0388 - accuracy: 0.5700 - val_loss: 0.9529 - val_accuracy: 0.6400\n",
            "Epoch 42/200\n",
            "8/8 [==============================] - 10s 1s/step - loss: 1.0321 - accuracy: 0.5900 - val_loss: 0.8573 - val_accuracy: 0.7000\n",
            "Epoch 43/200\n",
            "8/8 [==============================] - 10s 1s/step - loss: 1.0209 - accuracy: 0.5900 - val_loss: 0.8835 - val_accuracy: 0.7000\n",
            "Epoch 44/200\n",
            "8/8 [==============================] - 10s 1s/step - loss: 1.0690 - accuracy: 0.5575 - val_loss: 0.7235 - val_accuracy: 0.7500\n",
            "Epoch 45/200\n",
            "8/8 [==============================] - 10s 1s/step - loss: 0.9858 - accuracy: 0.6025 - val_loss: 0.7965 - val_accuracy: 0.7000\n",
            "Epoch 46/200\n",
            "8/8 [==============================] - 10s 1s/step - loss: 0.9415 - accuracy: 0.6600 - val_loss: 0.8805 - val_accuracy: 0.6500\n",
            "Epoch 47/200\n",
            "8/8 [==============================] - 10s 1s/step - loss: 1.0317 - accuracy: 0.5975 - val_loss: 1.0650 - val_accuracy: 0.6200\n",
            "Epoch 48/200\n",
            "8/8 [==============================] - 10s 1s/step - loss: 1.0316 - accuracy: 0.5900 - val_loss: 0.9463 - val_accuracy: 0.6200\n",
            "Epoch 49/200\n",
            "8/8 [==============================] - 10s 1s/step - loss: 1.0021 - accuracy: 0.6225 - val_loss: 0.8449 - val_accuracy: 0.6600\n",
            "Epoch 50/200\n",
            "8/8 [==============================] - 10s 1s/step - loss: 1.1032 - accuracy: 0.5400 - val_loss: 0.8941 - val_accuracy: 0.6400\n",
            "Epoch 51/200\n",
            "8/8 [==============================] - 10s 1s/step - loss: 1.0388 - accuracy: 0.5750 - val_loss: 1.0223 - val_accuracy: 0.6300\n",
            "Epoch 52/200\n",
            "8/8 [==============================] - 10s 1s/step - loss: 1.1373 - accuracy: 0.5250 - val_loss: 0.8254 - val_accuracy: 0.7600\n",
            "Epoch 53/200\n",
            "8/8 [==============================] - 10s 1s/step - loss: 1.0918 - accuracy: 0.5875 - val_loss: 0.9372 - val_accuracy: 0.7100\n",
            "Epoch 54/200\n",
            "8/8 [==============================] - 10s 1s/step - loss: 0.9284 - accuracy: 0.6275 - val_loss: 0.6880 - val_accuracy: 0.7700\n",
            "Epoch 55/200\n",
            "8/8 [==============================] - 10s 1s/step - loss: 0.8372 - accuracy: 0.6800 - val_loss: 1.0050 - val_accuracy: 0.6300\n",
            "Epoch 56/200\n",
            "8/8 [==============================] - 10s 1s/step - loss: 0.9143 - accuracy: 0.6750 - val_loss: 0.8771 - val_accuracy: 0.6800\n",
            "Epoch 57/200\n",
            "8/8 [==============================] - 10s 1s/step - loss: 0.9759 - accuracy: 0.6325 - val_loss: 0.7027 - val_accuracy: 0.7700\n",
            "Epoch 58/200\n",
            "8/8 [==============================] - 10s 1s/step - loss: 0.9823 - accuracy: 0.6200 - val_loss: 0.7802 - val_accuracy: 0.6800\n",
            "Epoch 59/200\n",
            "8/8 [==============================] - 10s 1s/step - loss: 0.9551 - accuracy: 0.6375 - val_loss: 0.9033 - val_accuracy: 0.6200\n",
            "Epoch 60/200\n",
            "8/8 [==============================] - 10s 1s/step - loss: 0.9074 - accuracy: 0.6450 - val_loss: 0.9181 - val_accuracy: 0.6800\n",
            "Epoch 61/200\n",
            "8/8 [==============================] - 10s 1s/step - loss: 0.8388 - accuracy: 0.6775 - val_loss: 0.7108 - val_accuracy: 0.7700\n",
            "Epoch 62/200\n",
            "8/8 [==============================] - 10s 1s/step - loss: 0.9242 - accuracy: 0.6575 - val_loss: 0.7492 - val_accuracy: 0.7300\n",
            "Epoch 63/200\n",
            "8/8 [==============================] - 10s 1s/step - loss: 0.8348 - accuracy: 0.6675 - val_loss: 0.9641 - val_accuracy: 0.6900\n",
            "Epoch 64/200\n",
            "8/8 [==============================] - 10s 1s/step - loss: 0.9575 - accuracy: 0.6600 - val_loss: 0.8989 - val_accuracy: 0.6800\n",
            "Epoch 65/200\n",
            "8/8 [==============================] - 10s 1s/step - loss: 0.9470 - accuracy: 0.6350 - val_loss: 0.9400 - val_accuracy: 0.5600\n",
            "Epoch 66/200\n",
            "8/8 [==============================] - 10s 1s/step - loss: 0.9638 - accuracy: 0.6250 - val_loss: 0.7631 - val_accuracy: 0.7500\n",
            "Epoch 67/200\n",
            "8/8 [==============================] - 10s 1s/step - loss: 0.9506 - accuracy: 0.6325 - val_loss: 0.8270 - val_accuracy: 0.6900\n",
            "Epoch 68/200\n",
            "8/8 [==============================] - 10s 1s/step - loss: 0.9324 - accuracy: 0.6525 - val_loss: 0.7007 - val_accuracy: 0.7400\n",
            "Epoch 69/200\n",
            "8/8 [==============================] - 10s 1s/step - loss: 0.8654 - accuracy: 0.6625 - val_loss: 1.0314 - val_accuracy: 0.6300\n",
            "Epoch 70/200\n",
            "8/8 [==============================] - 10s 1s/step - loss: 0.9821 - accuracy: 0.6350 - val_loss: 0.6101 - val_accuracy: 0.7800\n",
            "Epoch 71/200\n",
            "8/8 [==============================] - 10s 1s/step - loss: 0.9550 - accuracy: 0.6250 - val_loss: 0.6565 - val_accuracy: 0.8000\n",
            "Epoch 72/200\n",
            "8/8 [==============================] - 9s 1s/step - loss: 0.9341 - accuracy: 0.6475 - val_loss: 0.8384 - val_accuracy: 0.7300\n",
            "Epoch 73/200\n",
            "8/8 [==============================] - 10s 1s/step - loss: 1.0121 - accuracy: 0.5925 - val_loss: 0.8359 - val_accuracy: 0.6500\n",
            "Epoch 74/200\n",
            "8/8 [==============================] - 10s 1s/step - loss: 0.9357 - accuracy: 0.6150 - val_loss: 1.0103 - val_accuracy: 0.6300\n",
            "Epoch 75/200\n",
            "8/8 [==============================] - 10s 1s/step - loss: 0.9821 - accuracy: 0.6075 - val_loss: 0.8471 - val_accuracy: 0.7100\n",
            "Epoch 76/200\n",
            "8/8 [==============================] - 10s 1s/step - loss: 0.8816 - accuracy: 0.6600 - val_loss: 0.6964 - val_accuracy: 0.7400\n",
            "Epoch 77/200\n",
            "8/8 [==============================] - 10s 1s/step - loss: 0.8930 - accuracy: 0.6450 - val_loss: 1.0125 - val_accuracy: 0.6000\n",
            "Epoch 78/200\n",
            "8/8 [==============================] - 10s 1s/step - loss: 0.8704 - accuracy: 0.6700 - val_loss: 0.6688 - val_accuracy: 0.7500\n",
            "Epoch 79/200\n",
            "8/8 [==============================] - 10s 1s/step - loss: 0.8679 - accuracy: 0.6575 - val_loss: 0.8259 - val_accuracy: 0.7400\n",
            "Epoch 80/200\n",
            "8/8 [==============================] - 10s 1s/step - loss: 0.9012 - accuracy: 0.6600 - val_loss: 0.7844 - val_accuracy: 0.7100\n",
            "Epoch 81/200\n",
            "8/8 [==============================] - 10s 1s/step - loss: 0.8855 - accuracy: 0.6600 - val_loss: 0.7825 - val_accuracy: 0.7300\n",
            "Epoch 82/200\n",
            "8/8 [==============================] - 10s 1s/step - loss: 0.9437 - accuracy: 0.6450 - val_loss: 0.9603 - val_accuracy: 0.6500\n",
            "Epoch 83/200\n",
            "8/8 [==============================] - 10s 1s/step - loss: 0.9624 - accuracy: 0.6175 - val_loss: 0.9113 - val_accuracy: 0.6600\n",
            "Epoch 84/200\n",
            "8/8 [==============================] - 10s 1s/step - loss: 0.8807 - accuracy: 0.6525 - val_loss: 0.8504 - val_accuracy: 0.7100\n",
            "Epoch 85/200\n",
            "8/8 [==============================] - 10s 1s/step - loss: 0.9796 - accuracy: 0.6400 - val_loss: 0.8195 - val_accuracy: 0.7300\n",
            "Epoch 86/200\n",
            "8/8 [==============================] - 10s 1s/step - loss: 0.9824 - accuracy: 0.6400 - val_loss: 0.7003 - val_accuracy: 0.7500\n",
            "Epoch 87/200\n",
            "8/8 [==============================] - 10s 1s/step - loss: 0.9963 - accuracy: 0.6050 - val_loss: 1.0763 - val_accuracy: 0.6000\n",
            "Epoch 88/200\n",
            "8/8 [==============================] - 10s 1s/step - loss: 0.9143 - accuracy: 0.6525 - val_loss: 0.7830 - val_accuracy: 0.7000\n",
            "Epoch 89/200\n",
            "8/8 [==============================] - 10s 1s/step - loss: 0.9266 - accuracy: 0.6550 - val_loss: 0.9795 - val_accuracy: 0.6700\n",
            "Epoch 90/200\n",
            "8/8 [==============================] - 10s 1s/step - loss: 0.8578 - accuracy: 0.6875 - val_loss: 0.8001 - val_accuracy: 0.6600\n",
            "Epoch 91/200\n",
            "8/8 [==============================] - 10s 1s/step - loss: 0.8021 - accuracy: 0.6875 - val_loss: 0.9576 - val_accuracy: 0.6600\n",
            "Epoch 92/200\n",
            "8/8 [==============================] - 10s 1s/step - loss: 0.8468 - accuracy: 0.6825 - val_loss: 0.7481 - val_accuracy: 0.7600\n",
            "Epoch 93/200\n",
            "8/8 [==============================] - 10s 1s/step - loss: 0.9517 - accuracy: 0.6525 - val_loss: 0.9094 - val_accuracy: 0.6600\n",
            "Epoch 94/200\n",
            "8/8 [==============================] - 10s 1s/step - loss: 0.8107 - accuracy: 0.6925 - val_loss: 0.6165 - val_accuracy: 0.7900\n",
            "Epoch 95/200\n",
            "8/8 [==============================] - 10s 1s/step - loss: 0.9050 - accuracy: 0.6700 - val_loss: 0.8611 - val_accuracy: 0.6800\n",
            "Epoch 96/200\n",
            "8/8 [==============================] - 9s 1s/step - loss: 0.9393 - accuracy: 0.6175 - val_loss: 0.8743 - val_accuracy: 0.6900\n",
            "Epoch 97/200\n",
            "8/8 [==============================] - 10s 1s/step - loss: 0.8803 - accuracy: 0.6550 - val_loss: 0.7218 - val_accuracy: 0.7700\n",
            "Epoch 98/200\n",
            "8/8 [==============================] - 10s 1s/step - loss: 0.8613 - accuracy: 0.6700 - val_loss: 1.0759 - val_accuracy: 0.6600\n",
            "Epoch 99/200\n",
            "8/8 [==============================] - 10s 1s/step - loss: 0.8403 - accuracy: 0.6875 - val_loss: 0.7119 - val_accuracy: 0.7500\n",
            "Epoch 100/200\n",
            "8/8 [==============================] - 10s 1s/step - loss: 0.8524 - accuracy: 0.6850 - val_loss: 0.8709 - val_accuracy: 0.6400\n",
            "Epoch 101/200\n",
            "8/8 [==============================] - 10s 1s/step - loss: 0.8805 - accuracy: 0.6650 - val_loss: 0.7041 - val_accuracy: 0.7600\n",
            "Epoch 102/200\n",
            "8/8 [==============================] - 10s 1s/step - loss: 0.8317 - accuracy: 0.6950 - val_loss: 0.8855 - val_accuracy: 0.6900\n",
            "Epoch 103/200\n",
            "8/8 [==============================] - 10s 1s/step - loss: 0.8248 - accuracy: 0.6925 - val_loss: 0.8331 - val_accuracy: 0.6900\n",
            "Epoch 104/200\n",
            "8/8 [==============================] - 10s 1s/step - loss: 0.8725 - accuracy: 0.6425 - val_loss: 0.7234 - val_accuracy: 0.7000\n",
            "Epoch 105/200\n",
            "8/8 [==============================] - 10s 1s/step - loss: 0.9589 - accuracy: 0.6250 - val_loss: 0.8414 - val_accuracy: 0.6500\n",
            "Epoch 106/200\n",
            "8/8 [==============================] - 10s 1s/step - loss: 0.8603 - accuracy: 0.6700 - val_loss: 0.8275 - val_accuracy: 0.6900\n",
            "Epoch 107/200\n",
            "8/8 [==============================] - 10s 1s/step - loss: 0.8646 - accuracy: 0.6700 - val_loss: 0.8299 - val_accuracy: 0.6900\n",
            "Epoch 108/200\n",
            "8/8 [==============================] - 10s 1s/step - loss: 0.8091 - accuracy: 0.6775 - val_loss: 0.8504 - val_accuracy: 0.7100\n",
            "Epoch 109/200\n",
            "8/8 [==============================] - 10s 1s/step - loss: 0.8807 - accuracy: 0.6750 - val_loss: 0.8092 - val_accuracy: 0.6900\n",
            "Epoch 110/200\n",
            "8/8 [==============================] - 10s 1s/step - loss: 0.8377 - accuracy: 0.6725 - val_loss: 0.6537 - val_accuracy: 0.7500\n",
            "Epoch 111/200\n",
            "8/8 [==============================] - 10s 1s/step - loss: 0.9156 - accuracy: 0.6450 - val_loss: 0.6077 - val_accuracy: 0.7700\n",
            "Epoch 112/200\n",
            "8/8 [==============================] - 10s 1s/step - loss: 0.8731 - accuracy: 0.6550 - val_loss: 0.9145 - val_accuracy: 0.6300\n",
            "Epoch 113/200\n",
            "8/8 [==============================] - 10s 1s/step - loss: 0.9347 - accuracy: 0.6525 - val_loss: 0.6851 - val_accuracy: 0.7100\n",
            "Epoch 114/200\n",
            "8/8 [==============================] - 10s 1s/step - loss: 0.8643 - accuracy: 0.6625 - val_loss: 0.7781 - val_accuracy: 0.7400\n",
            "Epoch 115/200\n",
            "8/8 [==============================] - 10s 1s/step - loss: 0.8581 - accuracy: 0.6975 - val_loss: 0.7686 - val_accuracy: 0.7200\n",
            "Epoch 116/200\n",
            "8/8 [==============================] - 10s 1s/step - loss: 0.8218 - accuracy: 0.6800 - val_loss: 0.8017 - val_accuracy: 0.7400\n",
            "Epoch 117/200\n",
            "8/8 [==============================] - 10s 1s/step - loss: 0.8583 - accuracy: 0.6775 - val_loss: 0.6928 - val_accuracy: 0.7300\n",
            "Epoch 118/200\n",
            "8/8 [==============================] - 10s 1s/step - loss: 0.8808 - accuracy: 0.6475 - val_loss: 0.8227 - val_accuracy: 0.7100\n",
            "Epoch 119/200\n",
            "8/8 [==============================] - 10s 1s/step - loss: 0.8151 - accuracy: 0.6900 - val_loss: 0.7588 - val_accuracy: 0.7500\n",
            "Epoch 120/200\n",
            "8/8 [==============================] - 10s 1s/step - loss: 0.8128 - accuracy: 0.7125 - val_loss: 0.7946 - val_accuracy: 0.7400\n",
            "Epoch 121/200\n",
            "8/8 [==============================] - 10s 1s/step - loss: 0.7686 - accuracy: 0.6950 - val_loss: 0.8374 - val_accuracy: 0.7200\n",
            "Epoch 122/200\n",
            "8/8 [==============================] - 10s 1s/step - loss: 0.8984 - accuracy: 0.6575 - val_loss: 0.6884 - val_accuracy: 0.7800\n",
            "Epoch 123/200\n",
            "8/8 [==============================] - 10s 1s/step - loss: 0.8342 - accuracy: 0.6775 - val_loss: 1.0217 - val_accuracy: 0.6800\n",
            "Epoch 124/200\n",
            "8/8 [==============================] - 10s 1s/step - loss: 0.9104 - accuracy: 0.6500 - val_loss: 0.8192 - val_accuracy: 0.7000\n",
            "Epoch 125/200\n",
            "8/8 [==============================] - 10s 1s/step - loss: 0.8312 - accuracy: 0.6700 - val_loss: 0.7477 - val_accuracy: 0.7400\n",
            "Epoch 126/200\n",
            "8/8 [==============================] - 10s 1s/step - loss: 0.8297 - accuracy: 0.6550 - val_loss: 0.6110 - val_accuracy: 0.7900\n",
            "Epoch 127/200\n",
            "8/8 [==============================] - 10s 1s/step - loss: 0.8471 - accuracy: 0.7050 - val_loss: 0.6736 - val_accuracy: 0.7500\n",
            "Epoch 128/200\n",
            "8/8 [==============================] - 10s 1s/step - loss: 0.8844 - accuracy: 0.6725 - val_loss: 0.6436 - val_accuracy: 0.7800\n",
            "Epoch 129/200\n",
            "8/8 [==============================] - 10s 1s/step - loss: 0.8286 - accuracy: 0.6850 - val_loss: 0.7255 - val_accuracy: 0.7000\n",
            "Epoch 130/200\n",
            "8/8 [==============================] - 10s 1s/step - loss: 0.8286 - accuracy: 0.6775 - val_loss: 0.7445 - val_accuracy: 0.7200\n",
            "Epoch 131/200\n",
            "8/8 [==============================] - 10s 1s/step - loss: 0.7925 - accuracy: 0.7000 - val_loss: 0.7065 - val_accuracy: 0.7200\n",
            "Epoch 132/200\n",
            "8/8 [==============================] - 10s 1s/step - loss: 0.7687 - accuracy: 0.7275 - val_loss: 0.7701 - val_accuracy: 0.7400\n",
            "Epoch 133/200\n",
            "8/8 [==============================] - 11s 1s/step - loss: 0.8250 - accuracy: 0.6725 - val_loss: 0.9764 - val_accuracy: 0.6300\n",
            "Epoch 134/200\n",
            "8/8 [==============================] - 10s 1s/step - loss: 0.7593 - accuracy: 0.6850 - val_loss: 0.9124 - val_accuracy: 0.7000\n",
            "Epoch 135/200\n",
            "8/8 [==============================] - 10s 1s/step - loss: 0.7912 - accuracy: 0.6825 - val_loss: 0.8470 - val_accuracy: 0.6900\n",
            "Epoch 136/200\n",
            "8/8 [==============================] - 10s 1s/step - loss: 0.8305 - accuracy: 0.6750 - val_loss: 0.7843 - val_accuracy: 0.7300\n",
            "Epoch 137/200\n",
            "8/8 [==============================] - 10s 1s/step - loss: 0.7715 - accuracy: 0.7175 - val_loss: 0.6298 - val_accuracy: 0.7900\n",
            "Epoch 138/200\n",
            "8/8 [==============================] - 10s 1s/step - loss: 0.8065 - accuracy: 0.7150 - val_loss: 0.7870 - val_accuracy: 0.7000\n",
            "Epoch 139/200\n",
            "8/8 [==============================] - 10s 1s/step - loss: 0.7920 - accuracy: 0.6850 - val_loss: 0.8964 - val_accuracy: 0.6400\n",
            "Epoch 140/200\n",
            "8/8 [==============================] - 10s 1s/step - loss: 0.7918 - accuracy: 0.7100 - val_loss: 1.0081 - val_accuracy: 0.6200\n",
            "Epoch 141/200\n",
            "8/8 [==============================] - 10s 1s/step - loss: 0.8618 - accuracy: 0.6575 - val_loss: 0.8775 - val_accuracy: 0.6800\n",
            "Epoch 142/200\n",
            "8/8 [==============================] - 10s 1s/step - loss: 0.8665 - accuracy: 0.6525 - val_loss: 0.6782 - val_accuracy: 0.7400\n",
            "Epoch 143/200\n",
            "8/8 [==============================] - 10s 1s/step - loss: 0.8161 - accuracy: 0.6950 - val_loss: 0.9382 - val_accuracy: 0.6900\n",
            "Epoch 144/200\n",
            "8/8 [==============================] - 10s 1s/step - loss: 0.8624 - accuracy: 0.6500 - val_loss: 1.0466 - val_accuracy: 0.5600\n",
            "Epoch 145/200\n",
            "8/8 [==============================] - 10s 1s/step - loss: 0.8616 - accuracy: 0.6650 - val_loss: 1.0786 - val_accuracy: 0.6700\n",
            "Epoch 146/200\n",
            "8/8 [==============================] - 10s 1s/step - loss: 0.8008 - accuracy: 0.6800 - val_loss: 0.7086 - val_accuracy: 0.7700\n",
            "Epoch 147/200\n",
            "8/8 [==============================] - 9s 1s/step - loss: 0.7167 - accuracy: 0.7500 - val_loss: 0.7825 - val_accuracy: 0.7100\n",
            "Epoch 148/200\n",
            "8/8 [==============================] - 10s 1s/step - loss: 0.7818 - accuracy: 0.7075 - val_loss: 0.8075 - val_accuracy: 0.7000\n",
            "Epoch 149/200\n",
            "8/8 [==============================] - 10s 1s/step - loss: 0.8304 - accuracy: 0.6775 - val_loss: 0.7102 - val_accuracy: 0.7100\n",
            "Epoch 150/200\n",
            "8/8 [==============================] - 10s 1s/step - loss: 0.8193 - accuracy: 0.6950 - val_loss: 0.7372 - val_accuracy: 0.7300\n",
            "Epoch 151/200\n",
            "8/8 [==============================] - 10s 1s/step - loss: 0.7639 - accuracy: 0.7175 - val_loss: 0.6418 - val_accuracy: 0.7700\n",
            "Epoch 152/200\n",
            "8/8 [==============================] - 10s 1s/step - loss: 0.7476 - accuracy: 0.7125 - val_loss: 1.0058 - val_accuracy: 0.6500\n",
            "Epoch 153/200\n",
            "8/8 [==============================] - 10s 1s/step - loss: 0.8684 - accuracy: 0.6575 - val_loss: 0.7391 - val_accuracy: 0.7300\n",
            "Epoch 154/200\n",
            "8/8 [==============================] - 10s 1s/step - loss: 0.7911 - accuracy: 0.6950 - val_loss: 0.7856 - val_accuracy: 0.6700\n",
            "Epoch 155/200\n",
            "8/8 [==============================] - 10s 1s/step - loss: 0.7541 - accuracy: 0.7275 - val_loss: 0.8105 - val_accuracy: 0.6800\n",
            "Epoch 156/200\n",
            "8/8 [==============================] - 10s 1s/step - loss: 0.6996 - accuracy: 0.7650 - val_loss: 0.8511 - val_accuracy: 0.7000\n",
            "Epoch 157/200\n",
            "8/8 [==============================] - 10s 1s/step - loss: 0.9165 - accuracy: 0.6700 - val_loss: 0.6772 - val_accuracy: 0.7100\n",
            "Epoch 158/200\n",
            "8/8 [==============================] - 10s 1s/step - loss: 0.8970 - accuracy: 0.6625 - val_loss: 0.8557 - val_accuracy: 0.7000\n",
            "Epoch 159/200\n",
            "8/8 [==============================] - 10s 1s/step - loss: 0.7444 - accuracy: 0.7100 - val_loss: 0.7084 - val_accuracy: 0.6900\n",
            "Epoch 160/200\n",
            "8/8 [==============================] - 10s 1s/step - loss: 0.8307 - accuracy: 0.6850 - val_loss: 0.7499 - val_accuracy: 0.7100\n",
            "Epoch 161/200\n",
            "8/8 [==============================] - 10s 1s/step - loss: 0.8678 - accuracy: 0.6625 - val_loss: 0.8086 - val_accuracy: 0.7000\n",
            "Epoch 162/200\n",
            "8/8 [==============================] - 10s 1s/step - loss: 0.7702 - accuracy: 0.7125 - val_loss: 0.7937 - val_accuracy: 0.7000\n",
            "Epoch 163/200\n",
            "8/8 [==============================] - 10s 1s/step - loss: 0.7360 - accuracy: 0.7150 - val_loss: 0.8732 - val_accuracy: 0.6900\n",
            "Epoch 164/200\n",
            "8/8 [==============================] - 10s 1s/step - loss: 0.7189 - accuracy: 0.7225 - val_loss: 0.9594 - val_accuracy: 0.6900\n",
            "Epoch 165/200\n",
            "8/8 [==============================] - 10s 1s/step - loss: 0.8192 - accuracy: 0.6925 - val_loss: 0.9744 - val_accuracy: 0.7100\n",
            "Epoch 166/200\n",
            "8/8 [==============================] - 10s 1s/step - loss: 0.8038 - accuracy: 0.7100 - val_loss: 0.8513 - val_accuracy: 0.7000\n",
            "Epoch 167/200\n",
            "8/8 [==============================] - 10s 1s/step - loss: 0.7066 - accuracy: 0.7375 - val_loss: 0.8696 - val_accuracy: 0.6800\n",
            "Epoch 168/200\n",
            "8/8 [==============================] - 10s 1s/step - loss: 0.7622 - accuracy: 0.7000 - val_loss: 0.7631 - val_accuracy: 0.7000\n",
            "Epoch 169/200\n",
            "8/8 [==============================] - 10s 1s/step - loss: 0.8072 - accuracy: 0.6925 - val_loss: 0.9076 - val_accuracy: 0.6900\n",
            "Epoch 170/200\n",
            "8/8 [==============================] - 11s 1s/step - loss: 0.7550 - accuracy: 0.7200 - val_loss: 0.7265 - val_accuracy: 0.7300\n",
            "Epoch 171/200\n",
            "8/8 [==============================] - 10s 1s/step - loss: 0.6937 - accuracy: 0.7625 - val_loss: 0.6860 - val_accuracy: 0.7500\n",
            "Epoch 172/200\n",
            "8/8 [==============================] - 10s 1s/step - loss: 0.7691 - accuracy: 0.7200 - val_loss: 0.8931 - val_accuracy: 0.6600\n",
            "Epoch 173/200\n",
            "8/8 [==============================] - 10s 1s/step - loss: 0.7457 - accuracy: 0.7300 - val_loss: 0.8936 - val_accuracy: 0.6600\n",
            "Epoch 174/200\n",
            "8/8 [==============================] - 10s 1s/step - loss: 0.8096 - accuracy: 0.6875 - val_loss: 0.5978 - val_accuracy: 0.8100\n",
            "Epoch 175/200\n",
            "8/8 [==============================] - 10s 1s/step - loss: 0.8087 - accuracy: 0.6900 - val_loss: 0.8341 - val_accuracy: 0.7300\n",
            "Epoch 176/200\n",
            "8/8 [==============================] - 10s 1s/step - loss: 0.7698 - accuracy: 0.7350 - val_loss: 0.9212 - val_accuracy: 0.6600\n",
            "Epoch 177/200\n",
            "8/8 [==============================] - 10s 1s/step - loss: 0.6898 - accuracy: 0.7450 - val_loss: 0.7699 - val_accuracy: 0.7600\n",
            "Epoch 178/200\n",
            "8/8 [==============================] - 10s 1s/step - loss: 0.8005 - accuracy: 0.7000 - val_loss: 0.8401 - val_accuracy: 0.6200\n",
            "Epoch 179/200\n",
            "8/8 [==============================] - 10s 1s/step - loss: 0.7196 - accuracy: 0.7025 - val_loss: 0.7904 - val_accuracy: 0.7300\n",
            "Epoch 180/200\n",
            "8/8 [==============================] - 10s 1s/step - loss: 0.7895 - accuracy: 0.7225 - val_loss: 0.6987 - val_accuracy: 0.7300\n",
            "Epoch 181/200\n",
            "8/8 [==============================] - 11s 1s/step - loss: 0.9070 - accuracy: 0.6475 - val_loss: 0.8770 - val_accuracy: 0.7000\n",
            "Epoch 182/200\n",
            "8/8 [==============================] - 11s 1s/step - loss: 0.8440 - accuracy: 0.6725 - val_loss: 0.8044 - val_accuracy: 0.7200\n",
            "Epoch 183/200\n",
            "8/8 [==============================] - 10s 1s/step - loss: 0.7709 - accuracy: 0.7100 - val_loss: 0.8720 - val_accuracy: 0.7000\n",
            "Epoch 184/200\n",
            "8/8 [==============================] - 10s 1s/step - loss: 0.8126 - accuracy: 0.6825 - val_loss: 0.7702 - val_accuracy: 0.7600\n",
            "Epoch 185/200\n",
            "8/8 [==============================] - 10s 1s/step - loss: 0.7014 - accuracy: 0.7425 - val_loss: 0.7446 - val_accuracy: 0.7100\n",
            "Epoch 186/200\n",
            "8/8 [==============================] - 10s 1s/step - loss: 0.7657 - accuracy: 0.7075 - val_loss: 0.8971 - val_accuracy: 0.7100\n",
            "Epoch 187/200\n",
            "8/8 [==============================] - 10s 1s/step - loss: 0.8098 - accuracy: 0.6800 - val_loss: 0.9407 - val_accuracy: 0.6100\n",
            "Epoch 188/200\n",
            "8/8 [==============================] - 10s 1s/step - loss: 0.8064 - accuracy: 0.6775 - val_loss: 0.7735 - val_accuracy: 0.7100\n",
            "Epoch 189/200\n",
            "8/8 [==============================] - 10s 1s/step - loss: 0.7927 - accuracy: 0.6875 - val_loss: 0.8340 - val_accuracy: 0.6800\n",
            "Epoch 190/200\n",
            "8/8 [==============================] - 10s 1s/step - loss: 0.7310 - accuracy: 0.7150 - val_loss: 0.8481 - val_accuracy: 0.6500\n",
            "Epoch 191/200\n",
            "8/8 [==============================] - 10s 1s/step - loss: 0.7700 - accuracy: 0.6750 - val_loss: 0.7618 - val_accuracy: 0.7100\n",
            "Epoch 192/200\n",
            "8/8 [==============================] - 10s 1s/step - loss: 0.7160 - accuracy: 0.7300 - val_loss: 0.8232 - val_accuracy: 0.7000\n",
            "Epoch 193/200\n",
            "8/8 [==============================] - 10s 1s/step - loss: 0.7212 - accuracy: 0.7125 - val_loss: 0.9148 - val_accuracy: 0.6600\n",
            "Epoch 194/200\n",
            "8/8 [==============================] - 10s 1s/step - loss: 0.7862 - accuracy: 0.6950 - val_loss: 0.9702 - val_accuracy: 0.6700\n",
            "Epoch 195/200\n",
            "8/8 [==============================] - 10s 1s/step - loss: 0.7952 - accuracy: 0.7050 - val_loss: 0.7354 - val_accuracy: 0.7100\n",
            "Epoch 196/200\n",
            "8/8 [==============================] - 10s 1s/step - loss: 0.7004 - accuracy: 0.7375 - val_loss: 0.8606 - val_accuracy: 0.6800\n",
            "Epoch 197/200\n",
            "8/8 [==============================] - 10s 1s/step - loss: 0.7517 - accuracy: 0.7025 - val_loss: 0.8276 - val_accuracy: 0.7100\n",
            "Epoch 198/200\n",
            "8/8 [==============================] - 10s 1s/step - loss: 0.7500 - accuracy: 0.7250 - val_loss: 0.6064 - val_accuracy: 0.7500\n",
            "Epoch 199/200\n",
            "8/8 [==============================] - 10s 1s/step - loss: 0.7341 - accuracy: 0.7350 - val_loss: 0.8055 - val_accuracy: 0.7200\n",
            "Epoch 200/200\n",
            "8/8 [==============================] - 10s 1s/step - loss: 0.7149 - accuracy: 0.7450 - val_loss: 0.6087 - val_accuracy: 0.8100\n"
          ],
          "name": "stdout"
        }
      ]
    },
    {
      "cell_type": "markdown",
      "metadata": {
        "id": "Lhrhov_iUlQQ"
      },
      "source": [
        "Checking the result"
      ]
    },
    {
      "cell_type": "code",
      "metadata": {
        "colab": {
          "base_uri": "https://localhost:8080/",
          "height": 545
        },
        "id": "7nPMcXN-UoKR",
        "outputId": "c4640c97-e2f5-4fa2-a436-a541a178fe99"
      },
      "source": [
        "import matplotlib.pyplot as plt\n",
        "acc = history.history['accuracy']\n",
        "val_acc = history.history['val_accuracy']\n",
        "loss = history.history['loss']\n",
        "val_loss = history.history['val_loss']\n",
        "\n",
        "epochs = range(len(acc))\n",
        "\n",
        "plt.plot(epochs, acc, 'r', label='Training accuracy')\n",
        "plt.plot(epochs, val_acc, 'b', label='Validation accuracy')\n",
        "plt.title('Training and validation accuracy')\n",
        "\n",
        "plt.figure()\n",
        "\n",
        "plt.plot(epochs, loss, 'r', label='Training Loss')\n",
        "plt.plot(epochs, val_loss, 'b', label='Validation Loss')\n",
        "plt.title('Training and validation loss')\n",
        "plt.legend()\n",
        "\n",
        "plt.show()"
      ],
      "execution_count": 6,
      "outputs": [
        {
          "output_type": "display_data",
          "data": {
            "image/png": "[encoded data removed]",
            "text/plain": [
              "<Figure size 432x288 with 1 Axes>"
            ]
          },
          "metadata": {
            "tags": [],
            "needs_background": "light"
          }
        },
        {
          "output_type": "display_data",
          "data": {
            "image/png": "[encoded data removed]",
            "text/plain": [
              "<Figure size 432x288 with 1 Axes>"
            ]
          },
          "metadata": {
            "tags": [],
            "needs_background": "light"
          }
        }
      ]
    },
    {
      "cell_type": "code",
      "metadata": {
        "id": "zN59_B9cUplh",
        "colab": {
          "base_uri": "https://localhost:8080/"
        },
        "outputId": "c74ec2ca-61ff-43b2-dbe4-fc062d171fcd"
      },
      "source": [
        "# Generate a Saved Model\n",
        "\n",
        "tf.saved_model.save(model, '/content/drive/MyDrive/MY model/SavedModel')\n"
      ],
      "execution_count": 7,
      "outputs": [
        {
          "output_type": "stream",
          "text": [
            "WARNING:tensorflow:FOR KERAS USERS: The object that you are saving contains one or more Keras models or layers. If you are loading the SavedModel with `tf.keras.models.load_model`, continue reading (otherwise, you may ignore the following instructions). Please change your code to save with `tf.keras.models.save_model` or `model.save`, and confirm that the file \"keras.metadata\" exists in the export directory. In the future, Keras will only load the SavedModels that have this file. In other words, `tf.saved_model.save` will no longer write SavedModels that can be recovered as Keras models (this will apply in TF 2.5).\n",
            "\n",
            "FOR DEVS: If you are overwriting _tracking_metadata in your class, this property has been used to save metadata in the SavedModel. The metadta field will be deprecated soon, so please move the metadata to a different file.\n",
            "INFO:tensorflow:Assets written to: /content/drive/MyDrive/MY model/SavedModel/assets\n"
          ],
          "name": "stdout"
        }
      ]
    },
    {
      "cell_type": "code",
      "metadata": {
        "id": "IpVYMfkm7jbd",
        "colab": {
          "base_uri": "https://localhost:8080/"
        },
        "outputId": "2ce44945-1473-412d-acfe-ec149998be18"
      },
      "source": [
        "# Convert the SavedModel to TFLite\n",
        "import pathlib\n",
        "converter = tf.lite.TFLiteConverter.from_saved_model('/content/drive/MyDrive/MY model/SavedModel')\n",
        "tflite_model = converter.convert()\n",
        "\n",
        "tflite_model_file = pathlib.Path('tf.lite')\n",
        "tflite_model_file.write_bytes(tflite_model)"
      ],
      "execution_count": 8,
      "outputs": [
        {
          "output_type": "execute_result",
          "data": {
            "text/plain": [
              "349277140"
            ]
          },
          "metadata": {
            "tags": []
          },
          "execution_count": 8
        }
      ]
    },
    {
      "cell_type": "code",
      "metadata": {
        "id": "aMTmBi5z5mqY"
      },
      "source": [
        "# Download TFlite \n"
      ],
      "execution_count": 12,
      "outputs": []
    }
  ]
}