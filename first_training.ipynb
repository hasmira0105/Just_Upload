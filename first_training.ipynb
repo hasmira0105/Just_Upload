{
  "nbformat": 4,
  "nbformat_minor": 0,
  "metadata": {
    "colab": {
      "name": "Untitled5.ipynb",
      "provenance": [],
      "authorship_tag": "ABX9TyNNEu4t9rRLy/klC0t7IKvr",
      "include_colab_link": true
    },
    "kernelspec": {
      "name": "python3",
      "display_name": "Python 3"
    },
    "language_info": {
      "name": "python"
    },
    "accelerator": "GPU"
  },
  "cells": [
    {
      "cell_type": "markdown",
      "metadata": {
        "id": "view-in-github",
        "colab_type": "text"
      },
      "source": [
        "<a href=\"https://colab.research.google.com/github/hasmira0105/Public-repo/blob/main/first_training.ipynb\" target=\"_parent\"><img src=\"https://colab.research.google.com/assets/colab-badge.svg\" alt=\"Open In Colab\"/></a>"
      ]
    },
    {
      "cell_type": "markdown",
      "metadata": {
        "id": "Pu3nGMC3SZT3"
      },
      "source": [
        "Mount drive to collab"
      ]
    },
    {
      "cell_type": "code",
      "metadata": {
        "colab": {
          "base_uri": "https://localhost:8080/"
        },
        "id": "iA49Q8JQRuOE",
        "outputId": "0aec66a3-4d1c-477d-dc51-a63af97b4798"
      },
      "source": [
        "from google.colab import drive\n",
        "drive.mount('/content/drive')"
      ],
      "execution_count": 1,
      "outputs": [
        {
          "output_type": "stream",
          "text": [
            "Mounted at /content/drive\n"
          ],
          "name": "stdout"
        }
      ]
    },
    {
      "cell_type": "markdown",
      "metadata": {
        "id": "7ZYwPIdbSoQq"
      },
      "source": [
        "Preprocessing dataset and deploy apply image augmentation"
      ]
    },
    {
      "cell_type": "code",
      "metadata": {
        "colab": {
          "base_uri": "https://localhost:8080/"
        },
        "id": "HJ_pH2YlSwWu",
        "outputId": "66ae5d92-ca8f-47cd-c35c-4128e31b38b8"
      },
      "source": [
        "from tensorflow.keras.preprocessing.image import ImageDataGenerator\n",
        "\n",
        "train = ImageDataGenerator(\n",
        "      rescale=1./255,\n",
        "      rotation_range=40,\n",
        "      width_shift_range=0.2,\n",
        "      height_shift_range=0.2,\n",
        "      shear_range=0.2,\n",
        "      zoom_range=0.2,\n",
        "      horizontal_flip=True,\n",
        "      fill_mode='nearest')\n",
        "\n",
        "validation = ImageDataGenerator(rescale=1/255)\n",
        "\n",
        "\n",
        "training_dataset = train.flow_from_directory(\n",
        "    '/content/drive/MyDrive/DATASET/TRAIN',\n",
        "    target_size = (300, 300),\n",
        "    batch_size = 50,\n",
        "    class_mode = 'categorical'\n",
        ")\n",
        "\n",
        "validation_dataset = validation.flow_from_directory(\n",
        "    '/content/drive/MyDrive/DATASET/VALIDATION',\n",
        "    target_size = (300, 300),\n",
        "    batch_size = 50,\n",
        "    class_mode = 'categorical'\n",
        ")"
      ],
      "execution_count": 2,
      "outputs": [
        {
          "output_type": "stream",
          "text": [
            "Found 1200 images belonging to 3 classes.\n",
            "Found 300 images belonging to 3 classes.\n"
          ],
          "name": "stdout"
        }
      ]
    },
    {
      "cell_type": "markdown",
      "metadata": {
        "id": "UY9dqFVbTIDn"
      },
      "source": [
        "Creating the model"
      ]
    },
    {
      "cell_type": "code",
      "metadata": {
        "id": "uBCJsE6hTJ9h"
      },
      "source": [
        "import tensorflow as tf\n",
        "\n",
        "model = tf.keras.models.Sequential([\n",
        "    tf.keras.layers.Conv2D(16, (3,3), activation='relu', input_shape=(300, 300, 3)),\n",
        "    tf.keras.layers.MaxPooling2D(2, 2),\n",
        "    tf.keras.layers.Conv2D(32, (3,3), activation='relu'),\n",
        "    tf.keras.layers.MaxPooling2D(2,2),\n",
        "    tf.keras.layers.Flatten(),\n",
        "    tf.keras.layers.Dense(512, activation='relu'),\n",
        "    tf.keras.layers.Dense(3, activation='softmax')\n",
        "])"
      ],
      "execution_count": 3,
      "outputs": []
    },
    {
      "cell_type": "markdown",
      "metadata": {
        "id": "Z8zdvS5yTRu-"
      },
      "source": [
        "Compile the model"
      ]
    },
    {
      "cell_type": "code",
      "metadata": {
        "id": "J_ta-RhlTPCI"
      },
      "source": [
        "model.compile(optimizer='adam', loss='categorical_crossentropy', metrics=['accuracy'])"
      ],
      "execution_count": 4,
      "outputs": []
    },
    {
      "cell_type": "markdown",
      "metadata": {
        "id": "We8kGTs0TuLg"
      },
      "source": [
        "Train the dataset"
      ]
    },
    {
      "cell_type": "code",
      "metadata": {
        "colab": {
          "base_uri": "https://localhost:8080/"
        },
        "id": "aLtr3bSwTqQp",
        "outputId": "ade85e16-4b68-4b44-8f9d-f0a1a4562079"
      },
      "source": [
        "history = model.fit(\n",
        "    training_dataset,\n",
        "    steps_per_epoch = 8,\n",
        "    epochs = 50,\n",
        "    verbose = 1,\n",
        "    validation_data = validation_dataset,\n",
        "    validation_steps = 2\n",
        ")"
      ],
      "execution_count": 5,
      "outputs": [
        {
          "output_type": "stream",
          "text": [
            "Epoch 1/50\n",
            "8/8 [==============================] - 204s 22s/step - loss: 33.8139 - accuracy: 0.3395 - val_loss: 11.2171 - val_accuracy: 0.3700\n",
            "Epoch 2/50\n",
            "8/8 [==============================] - 104s 13s/step - loss: 7.4158 - accuracy: 0.3200 - val_loss: 1.2277 - val_accuracy: 0.2700\n",
            "Epoch 3/50\n",
            "8/8 [==============================] - 72s 9s/step - loss: 1.1318 - accuracy: 0.3297 - val_loss: 1.0850 - val_accuracy: 0.3400\n",
            "Epoch 4/50\n",
            "8/8 [==============================] - 50s 6s/step - loss: 1.0549 - accuracy: 0.3809 - val_loss: 1.0734 - val_accuracy: 0.3500\n",
            "Epoch 5/50\n",
            "8/8 [==============================] - 32s 4s/step - loss: 1.0634 - accuracy: 0.3491 - val_loss: 1.0734 - val_accuracy: 0.4000\n",
            "Epoch 6/50\n",
            "8/8 [==============================] - 22s 3s/step - loss: 1.0792 - accuracy: 0.3577 - val_loss: 1.0417 - val_accuracy: 0.4700\n",
            "Epoch 7/50\n",
            "8/8 [==============================] - 19s 2s/step - loss: 1.0410 - accuracy: 0.4491 - val_loss: 1.0202 - val_accuracy: 0.5100\n",
            "Epoch 8/50\n",
            "8/8 [==============================] - 15s 2s/step - loss: 1.0625 - accuracy: 0.4155 - val_loss: 1.0457 - val_accuracy: 0.5300\n",
            "Epoch 9/50\n",
            "8/8 [==============================] - 13s 2s/step - loss: 1.0527 - accuracy: 0.4544 - val_loss: 0.9802 - val_accuracy: 0.6100\n",
            "Epoch 10/50\n",
            "8/8 [==============================] - 14s 2s/step - loss: 1.0420 - accuracy: 0.4678 - val_loss: 0.9203 - val_accuracy: 0.5400\n",
            "Epoch 11/50\n",
            "8/8 [==============================] - 13s 2s/step - loss: 1.0183 - accuracy: 0.4429 - val_loss: 0.9036 - val_accuracy: 0.5800\n",
            "Epoch 12/50\n",
            "8/8 [==============================] - 11s 1s/step - loss: 1.0282 - accuracy: 0.4258 - val_loss: 1.0011 - val_accuracy: 0.5100\n",
            "Epoch 13/50\n",
            "8/8 [==============================] - 12s 2s/step - loss: 1.0191 - accuracy: 0.4930 - val_loss: 0.9424 - val_accuracy: 0.5800\n",
            "Epoch 14/50\n",
            "8/8 [==============================] - 11s 1s/step - loss: 0.9956 - accuracy: 0.5080 - val_loss: 0.9770 - val_accuracy: 0.4900\n",
            "Epoch 15/50\n",
            "8/8 [==============================] - 11s 1s/step - loss: 0.9664 - accuracy: 0.5359 - val_loss: 0.9091 - val_accuracy: 0.6000\n",
            "Epoch 16/50\n",
            "8/8 [==============================] - 11s 1s/step - loss: 1.0005 - accuracy: 0.5087 - val_loss: 0.9729 - val_accuracy: 0.5200\n",
            "Epoch 17/50\n",
            "8/8 [==============================] - 12s 1s/step - loss: 1.0326 - accuracy: 0.4778 - val_loss: 0.9537 - val_accuracy: 0.5200\n",
            "Epoch 18/50\n",
            "8/8 [==============================] - 12s 1s/step - loss: 0.9780 - accuracy: 0.5001 - val_loss: 0.9395 - val_accuracy: 0.5900\n",
            "Epoch 19/50\n",
            "8/8 [==============================] - 11s 1s/step - loss: 0.9993 - accuracy: 0.4834 - val_loss: 0.8461 - val_accuracy: 0.6400\n",
            "Epoch 20/50\n",
            "8/8 [==============================] - 11s 1s/step - loss: 0.9817 - accuracy: 0.4921 - val_loss: 0.9472 - val_accuracy: 0.5000\n",
            "Epoch 21/50\n",
            "8/8 [==============================] - 11s 1s/step - loss: 0.9774 - accuracy: 0.5135 - val_loss: 0.9204 - val_accuracy: 0.5900\n",
            "Epoch 22/50\n",
            "8/8 [==============================] - 12s 1s/step - loss: 0.9230 - accuracy: 0.5839 - val_loss: 0.9343 - val_accuracy: 0.5800\n",
            "Epoch 23/50\n",
            "8/8 [==============================] - 12s 1s/step - loss: 0.9065 - accuracy: 0.5561 - val_loss: 0.8688 - val_accuracy: 0.5900\n",
            "Epoch 24/50\n",
            "8/8 [==============================] - 11s 1s/step - loss: 0.9007 - accuracy: 0.5765 - val_loss: 0.8878 - val_accuracy: 0.5800\n",
            "Epoch 25/50\n",
            "8/8 [==============================] - 12s 1s/step - loss: 0.9858 - accuracy: 0.5287 - val_loss: 0.9183 - val_accuracy: 0.6000\n",
            "Epoch 26/50\n",
            "8/8 [==============================] - 11s 1s/step - loss: 0.9592 - accuracy: 0.5305 - val_loss: 0.8125 - val_accuracy: 0.6300\n",
            "Epoch 27/50\n",
            "8/8 [==============================] - 12s 1s/step - loss: 0.9685 - accuracy: 0.5172 - val_loss: 0.8310 - val_accuracy: 0.6100\n",
            "Epoch 28/50\n",
            "8/8 [==============================] - 11s 1s/step - loss: 0.9546 - accuracy: 0.4988 - val_loss: 0.8406 - val_accuracy: 0.5700\n",
            "Epoch 29/50\n",
            "8/8 [==============================] - 11s 1s/step - loss: 0.9058 - accuracy: 0.5682 - val_loss: 0.8330 - val_accuracy: 0.6400\n",
            "Epoch 30/50\n",
            "8/8 [==============================] - 11s 1s/step - loss: 0.9107 - accuracy: 0.5582 - val_loss: 0.8392 - val_accuracy: 0.5700\n",
            "Epoch 31/50\n",
            "8/8 [==============================] - 11s 1s/step - loss: 0.8953 - accuracy: 0.5642 - val_loss: 0.8288 - val_accuracy: 0.6100\n",
            "Epoch 32/50\n",
            "8/8 [==============================] - 11s 1s/step - loss: 0.8471 - accuracy: 0.5918 - val_loss: 0.7419 - val_accuracy: 0.6800\n",
            "Epoch 33/50\n",
            "8/8 [==============================] - 11s 1s/step - loss: 1.0012 - accuracy: 0.4921 - val_loss: 0.7626 - val_accuracy: 0.7000\n",
            "Epoch 34/50\n",
            "8/8 [==============================] - 11s 1s/step - loss: 0.9137 - accuracy: 0.5458 - val_loss: 0.8029 - val_accuracy: 0.6300\n",
            "Epoch 35/50\n",
            "8/8 [==============================] - 11s 1s/step - loss: 0.9208 - accuracy: 0.5714 - val_loss: 0.7642 - val_accuracy: 0.6100\n",
            "Epoch 36/50\n",
            "8/8 [==============================] - 11s 1s/step - loss: 0.9238 - accuracy: 0.5382 - val_loss: 0.7140 - val_accuracy: 0.6600\n",
            "Epoch 37/50\n",
            "8/8 [==============================] - 12s 1s/step - loss: 0.8840 - accuracy: 0.5681 - val_loss: 0.8041 - val_accuracy: 0.6300\n",
            "Epoch 38/50\n",
            "8/8 [==============================] - 11s 1s/step - loss: 0.9317 - accuracy: 0.5632 - val_loss: 0.8094 - val_accuracy: 0.6000\n",
            "Epoch 39/50\n",
            "8/8 [==============================] - 11s 1s/step - loss: 0.8450 - accuracy: 0.6358 - val_loss: 0.7902 - val_accuracy: 0.6100\n",
            "Epoch 40/50\n",
            "8/8 [==============================] - 11s 1s/step - loss: 0.8895 - accuracy: 0.5730 - val_loss: 0.8029 - val_accuracy: 0.6500\n",
            "Epoch 41/50\n",
            "8/8 [==============================] - 11s 1s/step - loss: 0.7939 - accuracy: 0.6431 - val_loss: 0.8078 - val_accuracy: 0.6100\n",
            "Epoch 42/50\n",
            "8/8 [==============================] - 11s 1s/step - loss: 0.8433 - accuracy: 0.5722 - val_loss: 0.7993 - val_accuracy: 0.5800\n",
            "Epoch 43/50\n",
            "8/8 [==============================] - 11s 1s/step - loss: 0.8032 - accuracy: 0.6247 - val_loss: 0.7590 - val_accuracy: 0.6600\n",
            "Epoch 44/50\n",
            "8/8 [==============================] - 11s 1s/step - loss: 0.8127 - accuracy: 0.6377 - val_loss: 0.7950 - val_accuracy: 0.6000\n",
            "Epoch 45/50\n",
            "8/8 [==============================] - 11s 1s/step - loss: 0.8277 - accuracy: 0.6229 - val_loss: 0.7942 - val_accuracy: 0.6500\n",
            "Epoch 46/50\n",
            "8/8 [==============================] - 12s 1s/step - loss: 0.8615 - accuracy: 0.5938 - val_loss: 0.8762 - val_accuracy: 0.6200\n",
            "Epoch 47/50\n",
            "8/8 [==============================] - 11s 1s/step - loss: 0.8460 - accuracy: 0.6452 - val_loss: 0.7472 - val_accuracy: 0.6600\n",
            "Epoch 48/50\n",
            "8/8 [==============================] - 11s 1s/step - loss: 0.7862 - accuracy: 0.6394 - val_loss: 0.7917 - val_accuracy: 0.6200\n",
            "Epoch 49/50\n",
            "8/8 [==============================] - 11s 1s/step - loss: 0.9016 - accuracy: 0.5617 - val_loss: 0.7472 - val_accuracy: 0.7000\n",
            "Epoch 50/50\n",
            "8/8 [==============================] - 11s 1s/step - loss: 0.8937 - accuracy: 0.5593 - val_loss: 0.7157 - val_accuracy: 0.6400\n"
          ],
          "name": "stdout"
        }
      ]
    },
    {
      "cell_type": "markdown",
      "metadata": {
        "id": "Lhrhov_iUlQQ"
      },
      "source": [
        ""
      ]
    },
    {
      "cell_type": "code",
      "metadata": {
        "colab": {
          "base_uri": "https://localhost:8080/",
          "height": 545
        },
        "id": "7nPMcXN-UoKR",
        "outputId": "c4341ade-6382-4f8c-fb23-2eeb390ab3fe"
      },
      "source": [
        "import matplotlib.pyplot as plt\n",
        "acc = history.history['accuracy']\n",
        "val_acc = history.history['val_accuracy']\n",
        "loss = history.history['loss']\n",
        "val_loss = history.history['val_loss']\n",
        "\n",
        "epochs = range(len(acc))\n",
        "\n",
        "plt.plot(epochs, acc, 'r', label='Training accuracy')\n",
        "plt.plot(epochs, val_acc, 'b', label='Validation accuracy')\n",
        "plt.title('Training and validation accuracy')\n",
        "\n",
        "plt.figure()\n",
        "\n",
        "plt.plot(epochs, loss, 'r', label='Training Loss')\n",
        "plt.plot(epochs, val_loss, 'b', label='Validation Loss')\n",
        "plt.title('Training and validation loss')\n",
        "plt.legend()\n",
        "\n",
        "plt.show()"
      ],
      "execution_count": 6,
      "outputs": [
        {
          "output_type": "display_data",
          "data": {
            "image/png": "[encoded data removed]",
            "text/plain": [
              "<Figure size 432x288 with 1 Axes>"
            ]
          },
          "metadata": {
            "tags": [],
            "needs_background": "light"
          }
        },
        {
          "output_type": "display_data",
          "data": {
            "image/png": "[encoded data removed]",
            "text/plain": [
              "<Figure size 432x288 with 1 Axes>"
            ]
          },
          "metadata": {
            "tags": [],
            "needs_background": "light"
          }
        }
      ]
    },
    {
      "cell_type": "code",
      "metadata": {
        "id": "zN59_B9cUplh"
      },
      "source": [
        ""
      ],
      "execution_count": null,
      "outputs": []
    }
  ]
}