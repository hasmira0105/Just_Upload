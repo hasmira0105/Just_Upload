{
  "nbformat": 4,
  "nbformat_minor": 0,
  "metadata": {
    "colab": {
      "name": "3rd_training.ipynb",
      "provenance": [],
      "authorship_tag": "ABX9TyOOFAAgW1XLvtR7xU6mruOp",
      "include_colab_link": true
    },
    "kernelspec": {
      "name": "python3",
      "display_name": "Python 3"
    },
    "language_info": {
      "name": "python"
    },
    "accelerator": "GPU"
  },
  "cells": [
    {
      "cell_type": "markdown",
      "metadata": {
        "id": "view-in-github",
        "colab_type": "text"
      },
      "source": [
        "<a href=\"https://colab.research.google.com/github/hasmira0105/Public-repo/blob/main/3rd_training.ipynb\" target=\"_parent\"><img src=\"https://colab.research.google.com/assets/colab-badge.svg\" alt=\"Open In Colab\"/></a>"
      ]
    },
    {
      "cell_type": "markdown",
      "metadata": {
        "id": "Pu3nGMC3SZT3"
      },
      "source": [
        "Mount drive to collab"
      ]
    },
    {
      "cell_type": "code",
      "metadata": {
        "colab": {
          "base_uri": "https://localhost:8080/"
        },
        "id": "iA49Q8JQRuOE",
        "outputId": "816ee67b-1c72-4704-e35e-1fb046868a49"
      },
      "source": [
        "from google.colab import drive\n",
        "drive.mount('/content/drive')"
      ],
      "execution_count": 1,
      "outputs": [
        {
          "output_type": "stream",
          "text": [
            "Mounted at /content/drive\n"
          ],
          "name": "stdout"
        }
      ]
    },
    {
      "cell_type": "markdown",
      "metadata": {
        "id": "7ZYwPIdbSoQq"
      },
      "source": [
        "Preprocessing dataset and deploy apply image augmentation"
      ]
    },
    {
      "cell_type": "code",
      "metadata": {
        "colab": {
          "base_uri": "https://localhost:8080/"
        },
        "id": "HJ_pH2YlSwWu",
        "outputId": "a8b852cc-3150-43eb-9822-216f669b08ff"
      },
      "source": [
        "from tensorflow.keras.preprocessing.image import ImageDataGenerator\n",
        "\n",
        "train = ImageDataGenerator(\n",
        "      rescale=1./255,\n",
        "      rotation_range=40,\n",
        "      width_shift_range=0.2,\n",
        "      height_shift_range=0.2,\n",
        "      shear_range=0.2,\n",
        "      zoom_range=0.2,\n",
        "      horizontal_flip=True,\n",
        "      fill_mode='nearest')\n",
        "\n",
        "validation = ImageDataGenerator(rescale=1/255)\n",
        "\n",
        "\n",
        "training_dataset = train.flow_from_directory(\n",
        "    '/content/drive/MyDrive/Dataset1/Train',\n",
        "    target_size = (300, 300),\n",
        "    batch_size = 50,\n",
        "    class_mode = 'categorical'\n",
        ")\n",
        "\n",
        "validation_dataset = validation.flow_from_directory(\n",
        "    '/content/drive/MyDrive/Dataset1/Validation',\n",
        "    target_size = (300, 300),\n",
        "    batch_size = 50,\n",
        "    class_mode = 'categorical'\n",
        ")"
      ],
      "execution_count": 2,
      "outputs": [
        {
          "output_type": "stream",
          "text": [
            "Found 2000 images belonging to 5 classes.\n",
            "Found 500 images belonging to 5 classes.\n"
          ],
          "name": "stdout"
        }
      ]
    },
    {
      "cell_type": "markdown",
      "metadata": {
        "id": "UY9dqFVbTIDn"
      },
      "source": [
        "Creating the model"
      ]
    },
    {
      "cell_type": "code",
      "metadata": {
        "id": "uBCJsE6hTJ9h"
      },
      "source": [
        "import tensorflow as tf\n",
        "\n",
        "model = tf.keras.models.Sequential([\n",
        "    tf.keras.layers.Conv2D(16, (3,3), activation='relu', input_shape=(300, 300, 3)),\n",
        "    tf.keras.layers.MaxPooling2D(2, 2),\n",
        "    tf.keras.layers.Conv2D(32, (3,3), activation='relu'),\n",
        "    tf.keras.layers.MaxPooling2D(2,2),\n",
        "    tf.keras.layers.Flatten(),\n",
        "    tf.keras.layers.Dense(512, activation='relu'),\n",
        "    tf.keras.layers.Dense(5, activation='softmax')\n",
        "])"
      ],
      "execution_count": 3,
      "outputs": []
    },
    {
      "cell_type": "markdown",
      "metadata": {
        "id": "Z8zdvS5yTRu-"
      },
      "source": [
        "Compile the model"
      ]
    },
    {
      "cell_type": "code",
      "metadata": {
        "id": "J_ta-RhlTPCI"
      },
      "source": [
        "model.compile(optimizer='adam', loss='categorical_crossentropy', metrics=['accuracy'])"
      ],
      "execution_count": 4,
      "outputs": []
    },
    {
      "cell_type": "markdown",
      "metadata": {
        "id": "We8kGTs0TuLg"
      },
      "source": [
        "Train the dataset"
      ]
    },
    {
      "cell_type": "code",
      "metadata": {
        "colab": {
          "base_uri": "https://localhost:8080/"
        },
        "id": "aLtr3bSwTqQp",
        "outputId": "c3f5e189-684c-4758-aeb4-24cc8a76c8a3"
      },
      "source": [
        "history = model.fit(\n",
        "    training_dataset,\n",
        "    steps_per_epoch = 8,\n",
        "    epochs = 200,\n",
        "    verbose = 1,\n",
        "    validation_data = validation_dataset,\n",
        "    validation_steps = 2\n",
        ")"
      ],
      "execution_count": 5,
      "outputs": [
        {
          "output_type": "stream",
          "text": [
            "Epoch 1/200\n",
            "8/8 [==============================] - 212s 23s/step - loss: 13.5303 - accuracy: 0.2500 - val_loss: 4.2127 - val_accuracy: 0.2100\n",
            "Epoch 2/200\n",
            "8/8 [==============================] - 149s 19s/step - loss: 2.2205 - accuracy: 0.2300 - val_loss: 1.5299 - val_accuracy: 0.3000\n",
            "Epoch 3/200\n",
            "8/8 [==============================] - 111s 14s/step - loss: 1.5876 - accuracy: 0.1975 - val_loss: 1.4888 - val_accuracy: 0.4000\n",
            "Epoch 4/200\n",
            "8/8 [==============================] - 81s 10s/step - loss: 1.5526 - accuracy: 0.3050 - val_loss: 1.4868 - val_accuracy: 0.3400\n",
            "Epoch 5/200\n",
            "8/8 [==============================] - 65s 8s/step - loss: 1.4866 - accuracy: 0.3650 - val_loss: 1.3413 - val_accuracy: 0.4200\n",
            "Epoch 6/200\n",
            "8/8 [==============================] - 57s 7s/step - loss: 1.5223 - accuracy: 0.3625 - val_loss: 1.3594 - val_accuracy: 0.5000\n",
            "Epoch 7/200\n",
            "8/8 [==============================] - 48s 6s/step - loss: 1.4347 - accuracy: 0.3900 - val_loss: 1.2637 - val_accuracy: 0.5100\n",
            "Epoch 8/200\n",
            "8/8 [==============================] - 35s 5s/step - loss: 1.3694 - accuracy: 0.4200 - val_loss: 1.4199 - val_accuracy: 0.4700\n",
            "Epoch 9/200\n",
            "8/8 [==============================] - 29s 4s/step - loss: 1.3426 - accuracy: 0.4425 - val_loss: 1.1269 - val_accuracy: 0.5900\n",
            "Epoch 10/200\n",
            "8/8 [==============================] - 26s 3s/step - loss: 1.2544 - accuracy: 0.5000 - val_loss: 1.1647 - val_accuracy: 0.6000\n",
            "Epoch 11/200\n",
            "8/8 [==============================] - 23s 3s/step - loss: 1.1756 - accuracy: 0.5175 - val_loss: 1.2831 - val_accuracy: 0.5800\n",
            "Epoch 12/200\n",
            "8/8 [==============================] - 21s 3s/step - loss: 1.2654 - accuracy: 0.5025 - val_loss: 1.1306 - val_accuracy: 0.5900\n",
            "Epoch 13/200\n",
            "8/8 [==============================] - 17s 2s/step - loss: 1.2383 - accuracy: 0.4700 - val_loss: 1.0604 - val_accuracy: 0.5700\n",
            "Epoch 14/200\n",
            "8/8 [==============================] - 15s 2s/step - loss: 1.2682 - accuracy: 0.4975 - val_loss: 1.1565 - val_accuracy: 0.6100\n",
            "Epoch 15/200\n",
            "8/8 [==============================] - 15s 2s/step - loss: 1.1918 - accuracy: 0.5150 - val_loss: 1.1897 - val_accuracy: 0.5600\n",
            "Epoch 16/200\n",
            "8/8 [==============================] - 14s 2s/step - loss: 1.1600 - accuracy: 0.5175 - val_loss: 0.9858 - val_accuracy: 0.5900\n",
            "Epoch 17/200\n",
            "8/8 [==============================] - 12s 1s/step - loss: 1.1412 - accuracy: 0.5400 - val_loss: 0.9324 - val_accuracy: 0.6900\n",
            "Epoch 18/200\n",
            "8/8 [==============================] - 11s 1s/step - loss: 1.1024 - accuracy: 0.5700 - val_loss: 1.2374 - val_accuracy: 0.5700\n",
            "Epoch 19/200\n",
            "8/8 [==============================] - 11s 1s/step - loss: 1.1406 - accuracy: 0.5250 - val_loss: 1.1069 - val_accuracy: 0.5600\n",
            "Epoch 20/200\n",
            "8/8 [==============================] - 12s 1s/step - loss: 1.1602 - accuracy: 0.5750 - val_loss: 1.1408 - val_accuracy: 0.5700\n",
            "Epoch 21/200\n",
            "8/8 [==============================] - 11s 1s/step - loss: 1.2661 - accuracy: 0.5025 - val_loss: 1.0761 - val_accuracy: 0.6400\n",
            "Epoch 22/200\n",
            "8/8 [==============================] - 10s 1s/step - loss: 1.1334 - accuracy: 0.5500 - val_loss: 1.1076 - val_accuracy: 0.5800\n",
            "Epoch 23/200\n",
            "8/8 [==============================] - 12s 2s/step - loss: 1.1149 - accuracy: 0.5725 - val_loss: 0.9559 - val_accuracy: 0.6100\n",
            "Epoch 24/200\n",
            "8/8 [==============================] - 10s 1s/step - loss: 1.1080 - accuracy: 0.5525 - val_loss: 0.9626 - val_accuracy: 0.6800\n",
            "Epoch 25/200\n",
            "8/8 [==============================] - 10s 1s/step - loss: 1.1171 - accuracy: 0.5600 - val_loss: 1.0612 - val_accuracy: 0.6700\n",
            "Epoch 26/200\n",
            "8/8 [==============================] - 11s 1s/step - loss: 1.0839 - accuracy: 0.5475 - val_loss: 0.8243 - val_accuracy: 0.6900\n",
            "Epoch 27/200\n",
            "8/8 [==============================] - 10s 1s/step - loss: 1.0290 - accuracy: 0.5800 - val_loss: 0.9129 - val_accuracy: 0.6900\n",
            "Epoch 28/200\n",
            "8/8 [==============================] - 10s 1s/step - loss: 1.0434 - accuracy: 0.5725 - val_loss: 0.8574 - val_accuracy: 0.7000\n",
            "Epoch 29/200\n",
            "8/8 [==============================] - 10s 1s/step - loss: 0.9932 - accuracy: 0.5775 - val_loss: 0.7813 - val_accuracy: 0.7400\n",
            "Epoch 30/200\n",
            "8/8 [==============================] - 10s 1s/step - loss: 1.0410 - accuracy: 0.6000 - val_loss: 0.9810 - val_accuracy: 0.6300\n",
            "Epoch 31/200\n",
            "8/8 [==============================] - 10s 1s/step - loss: 1.0208 - accuracy: 0.6050 - val_loss: 0.9898 - val_accuracy: 0.6100\n",
            "Epoch 32/200\n",
            "8/8 [==============================] - 10s 1s/step - loss: 1.0906 - accuracy: 0.5825 - val_loss: 1.0236 - val_accuracy: 0.5700\n",
            "Epoch 33/200\n",
            "8/8 [==============================] - 10s 1s/step - loss: 1.1030 - accuracy: 0.5500 - val_loss: 0.9610 - val_accuracy: 0.6500\n",
            "Epoch 34/200\n",
            "8/8 [==============================] - 10s 1s/step - loss: 0.9962 - accuracy: 0.6275 - val_loss: 0.8864 - val_accuracy: 0.7000\n",
            "Epoch 35/200\n",
            "8/8 [==============================] - 10s 1s/step - loss: 1.0281 - accuracy: 0.6200 - val_loss: 1.0226 - val_accuracy: 0.6600\n",
            "Epoch 36/200\n",
            "8/8 [==============================] - 10s 1s/step - loss: 1.1104 - accuracy: 0.5700 - val_loss: 0.8751 - val_accuracy: 0.6600\n",
            "Epoch 37/200\n",
            "8/8 [==============================] - 10s 1s/step - loss: 1.1121 - accuracy: 0.5650 - val_loss: 0.9475 - val_accuracy: 0.6800\n",
            "Epoch 38/200\n",
            "8/8 [==============================] - 10s 1s/step - loss: 1.0640 - accuracy: 0.5975 - val_loss: 0.8185 - val_accuracy: 0.7100\n",
            "Epoch 39/200\n",
            "8/8 [==============================] - 10s 1s/step - loss: 1.1526 - accuracy: 0.5525 - val_loss: 1.0516 - val_accuracy: 0.6200\n",
            "Epoch 40/200\n",
            "8/8 [==============================] - 10s 1s/step - loss: 1.1057 - accuracy: 0.5675 - val_loss: 1.0637 - val_accuracy: 0.5600\n",
            "Epoch 41/200\n",
            "8/8 [==============================] - 10s 1s/step - loss: 1.0343 - accuracy: 0.6050 - val_loss: 0.9166 - val_accuracy: 0.7000\n",
            "Epoch 42/200\n",
            "8/8 [==============================] - 10s 1s/step - loss: 0.9449 - accuracy: 0.6525 - val_loss: 0.9911 - val_accuracy: 0.6600\n",
            "Epoch 43/200\n",
            "8/8 [==============================] - 10s 1s/step - loss: 1.0515 - accuracy: 0.5850 - val_loss: 0.9652 - val_accuracy: 0.7100\n",
            "Epoch 44/200\n",
            "8/8 [==============================] - 10s 1s/step - loss: 0.9888 - accuracy: 0.6275 - val_loss: 0.9959 - val_accuracy: 0.6000\n",
            "Epoch 45/200\n",
            "8/8 [==============================] - 10s 1s/step - loss: 1.0599 - accuracy: 0.5725 - val_loss: 0.9073 - val_accuracy: 0.7100\n",
            "Epoch 46/200\n",
            "8/8 [==============================] - 10s 1s/step - loss: 0.9474 - accuracy: 0.6475 - val_loss: 0.6474 - val_accuracy: 0.7500\n",
            "Epoch 47/200\n",
            "8/8 [==============================] - 10s 1s/step - loss: 0.9361 - accuracy: 0.6300 - val_loss: 1.0075 - val_accuracy: 0.6300\n",
            "Epoch 48/200\n",
            "8/8 [==============================] - 10s 1s/step - loss: 0.9037 - accuracy: 0.6550 - val_loss: 0.9372 - val_accuracy: 0.6200\n",
            "Epoch 49/200\n",
            "8/8 [==============================] - 10s 1s/step - loss: 0.9332 - accuracy: 0.6325 - val_loss: 0.7698 - val_accuracy: 0.7500\n",
            "Epoch 50/200\n",
            "8/8 [==============================] - 10s 1s/step - loss: 0.9466 - accuracy: 0.6275 - val_loss: 1.0515 - val_accuracy: 0.6500\n",
            "Epoch 51/200\n",
            "8/8 [==============================] - 10s 1s/step - loss: 1.0228 - accuracy: 0.5950 - val_loss: 0.8871 - val_accuracy: 0.6700\n",
            "Epoch 52/200\n",
            "8/8 [==============================] - 10s 1s/step - loss: 0.9199 - accuracy: 0.6350 - val_loss: 0.9976 - val_accuracy: 0.6400\n",
            "Epoch 53/200\n",
            "8/8 [==============================] - 10s 1s/step - loss: 1.0404 - accuracy: 0.5825 - val_loss: 0.6295 - val_accuracy: 0.8000\n",
            "Epoch 54/200\n",
            "8/8 [==============================] - 10s 1s/step - loss: 0.7939 - accuracy: 0.7125 - val_loss: 0.8299 - val_accuracy: 0.7100\n",
            "Epoch 55/200\n",
            "8/8 [==============================] - 10s 1s/step - loss: 0.9555 - accuracy: 0.6225 - val_loss: 0.8482 - val_accuracy: 0.6500\n",
            "Epoch 56/200\n",
            "8/8 [==============================] - 10s 1s/step - loss: 0.9320 - accuracy: 0.6400 - val_loss: 0.8761 - val_accuracy: 0.6800\n",
            "Epoch 57/200\n",
            "8/8 [==============================] - 10s 1s/step - loss: 1.0891 - accuracy: 0.5925 - val_loss: 0.6649 - val_accuracy: 0.7800\n",
            "Epoch 58/200\n",
            "8/8 [==============================] - 10s 1s/step - loss: 0.9898 - accuracy: 0.6100 - val_loss: 0.9603 - val_accuracy: 0.6500\n",
            "Epoch 59/200\n",
            "8/8 [==============================] - 10s 1s/step - loss: 1.0003 - accuracy: 0.6425 - val_loss: 0.9284 - val_accuracy: 0.6200\n",
            "Epoch 60/200\n",
            "8/8 [==============================] - 10s 1s/step - loss: 0.9346 - accuracy: 0.6625 - val_loss: 1.0571 - val_accuracy: 0.6300\n",
            "Epoch 61/200\n",
            "8/8 [==============================] - 10s 1s/step - loss: 0.9525 - accuracy: 0.6400 - val_loss: 0.6504 - val_accuracy: 0.8300\n",
            "Epoch 62/200\n",
            "8/8 [==============================] - 10s 1s/step - loss: 0.9642 - accuracy: 0.6200 - val_loss: 0.7874 - val_accuracy: 0.7100\n",
            "Epoch 63/200\n",
            "8/8 [==============================] - 10s 1s/step - loss: 0.9149 - accuracy: 0.6200 - val_loss: 0.8598 - val_accuracy: 0.7500\n",
            "Epoch 64/200\n",
            "8/8 [==============================] - 10s 1s/step - loss: 0.9766 - accuracy: 0.6350 - val_loss: 0.8802 - val_accuracy: 0.6700\n",
            "Epoch 65/200\n",
            "8/8 [==============================] - 10s 1s/step - loss: 0.9970 - accuracy: 0.5900 - val_loss: 0.7974 - val_accuracy: 0.7100\n",
            "Epoch 66/200\n",
            "8/8 [==============================] - 10s 1s/step - loss: 0.9089 - accuracy: 0.6475 - val_loss: 0.7300 - val_accuracy: 0.7400\n",
            "Epoch 67/200\n",
            "8/8 [==============================] - 10s 1s/step - loss: 0.9357 - accuracy: 0.6225 - val_loss: 0.8592 - val_accuracy: 0.6600\n",
            "Epoch 68/200\n",
            "8/8 [==============================] - 10s 1s/step - loss: 0.9114 - accuracy: 0.6300 - val_loss: 0.8592 - val_accuracy: 0.6300\n",
            "Epoch 69/200\n",
            "8/8 [==============================] - 10s 1s/step - loss: 0.9080 - accuracy: 0.6450 - val_loss: 0.7425 - val_accuracy: 0.7500\n",
            "Epoch 70/200\n",
            "8/8 [==============================] - 10s 1s/step - loss: 0.9205 - accuracy: 0.6375 - val_loss: 0.7153 - val_accuracy: 0.7300\n",
            "Epoch 71/200\n",
            "8/8 [==============================] - 10s 1s/step - loss: 0.9037 - accuracy: 0.6450 - val_loss: 0.7143 - val_accuracy: 0.7100\n",
            "Epoch 72/200\n",
            "8/8 [==============================] - 10s 1s/step - loss: 0.9516 - accuracy: 0.6375 - val_loss: 0.9948 - val_accuracy: 0.6700\n",
            "Epoch 73/200\n",
            "8/8 [==============================] - 10s 1s/step - loss: 0.9992 - accuracy: 0.6275 - val_loss: 1.0866 - val_accuracy: 0.5900\n",
            "Epoch 74/200\n",
            "8/8 [==============================] - 10s 1s/step - loss: 0.9581 - accuracy: 0.6125 - val_loss: 0.8423 - val_accuracy: 0.6900\n",
            "Epoch 75/200\n",
            "8/8 [==============================] - 10s 1s/step - loss: 1.0034 - accuracy: 0.6350 - val_loss: 0.8619 - val_accuracy: 0.7100\n",
            "Epoch 76/200\n",
            "8/8 [==============================] - 10s 1s/step - loss: 0.8963 - accuracy: 0.6450 - val_loss: 0.8032 - val_accuracy: 0.7500\n",
            "Epoch 77/200\n",
            "8/8 [==============================] - 10s 1s/step - loss: 0.9521 - accuracy: 0.6375 - val_loss: 0.9696 - val_accuracy: 0.6800\n",
            "Epoch 78/200\n",
            "8/8 [==============================] - 10s 1s/step - loss: 0.9492 - accuracy: 0.6450 - val_loss: 0.7716 - val_accuracy: 0.7200\n",
            "Epoch 79/200\n",
            "8/8 [==============================] - 10s 1s/step - loss: 0.8938 - accuracy: 0.6550 - val_loss: 0.6648 - val_accuracy: 0.7400\n",
            "Epoch 80/200\n",
            "8/8 [==============================] - 10s 1s/step - loss: 0.9300 - accuracy: 0.6300 - val_loss: 0.8742 - val_accuracy: 0.7000\n",
            "Epoch 81/200\n",
            "8/8 [==============================] - 10s 1s/step - loss: 0.9375 - accuracy: 0.6575 - val_loss: 0.8895 - val_accuracy: 0.6700\n",
            "Epoch 82/200\n",
            "8/8 [==============================] - 10s 1s/step - loss: 0.9445 - accuracy: 0.6350 - val_loss: 0.8768 - val_accuracy: 0.6700\n",
            "Epoch 83/200\n",
            "8/8 [==============================] - 10s 1s/step - loss: 0.8565 - accuracy: 0.6275 - val_loss: 1.0013 - val_accuracy: 0.6000\n",
            "Epoch 84/200\n",
            "8/8 [==============================] - 10s 1s/step - loss: 0.8984 - accuracy: 0.6575 - val_loss: 0.7083 - val_accuracy: 0.7800\n",
            "Epoch 85/200\n",
            "8/8 [==============================] - 10s 1s/step - loss: 0.8850 - accuracy: 0.6850 - val_loss: 0.8082 - val_accuracy: 0.6300\n",
            "Epoch 86/200\n",
            "8/8 [==============================] - 10s 1s/step - loss: 0.9369 - accuracy: 0.6300 - val_loss: 0.7981 - val_accuracy: 0.7400\n",
            "Epoch 87/200\n",
            "8/8 [==============================] - 10s 1s/step - loss: 0.9518 - accuracy: 0.6150 - val_loss: 0.7420 - val_accuracy: 0.7100\n",
            "Epoch 88/200\n",
            "8/8 [==============================] - 10s 1s/step - loss: 0.8561 - accuracy: 0.6925 - val_loss: 0.8643 - val_accuracy: 0.6900\n",
            "Epoch 89/200\n",
            "8/8 [==============================] - 10s 1s/step - loss: 0.8445 - accuracy: 0.7025 - val_loss: 0.8055 - val_accuracy: 0.7100\n",
            "Epoch 90/200\n",
            "8/8 [==============================] - 10s 1s/step - loss: 0.8076 - accuracy: 0.6875 - val_loss: 0.9785 - val_accuracy: 0.6700\n",
            "Epoch 91/200\n",
            "8/8 [==============================] - 10s 1s/step - loss: 0.8537 - accuracy: 0.6875 - val_loss: 0.8979 - val_accuracy: 0.6900\n",
            "Epoch 92/200\n",
            "8/8 [==============================] - 10s 1s/step - loss: 0.9280 - accuracy: 0.6750 - val_loss: 0.9209 - val_accuracy: 0.6800\n",
            "Epoch 93/200\n",
            "8/8 [==============================] - 11s 1s/step - loss: 0.8303 - accuracy: 0.6650 - val_loss: 0.7530 - val_accuracy: 0.7500\n",
            "Epoch 94/200\n",
            "8/8 [==============================] - 10s 1s/step - loss: 0.9135 - accuracy: 0.6350 - val_loss: 0.6758 - val_accuracy: 0.7900\n",
            "Epoch 95/200\n",
            "8/8 [==============================] - 11s 1s/step - loss: 0.8978 - accuracy: 0.6500 - val_loss: 1.0460 - val_accuracy: 0.6900\n",
            "Epoch 96/200\n",
            "8/8 [==============================] - 10s 1s/step - loss: 0.8661 - accuracy: 0.6650 - val_loss: 0.7670 - val_accuracy: 0.7300\n",
            "Epoch 97/200\n",
            "8/8 [==============================] - 10s 1s/step - loss: 0.8928 - accuracy: 0.6650 - val_loss: 0.8773 - val_accuracy: 0.6600\n",
            "Epoch 98/200\n",
            "8/8 [==============================] - 11s 1s/step - loss: 0.8922 - accuracy: 0.6425 - val_loss: 0.8928 - val_accuracy: 0.6600\n",
            "Epoch 99/200\n",
            "8/8 [==============================] - 10s 1s/step - loss: 0.8542 - accuracy: 0.6725 - val_loss: 0.7346 - val_accuracy: 0.7600\n",
            "Epoch 100/200\n",
            "8/8 [==============================] - 10s 1s/step - loss: 0.8138 - accuracy: 0.6650 - val_loss: 0.8410 - val_accuracy: 0.6800\n",
            "Epoch 101/200\n",
            "8/8 [==============================] - 10s 1s/step - loss: 0.8238 - accuracy: 0.6850 - val_loss: 0.8552 - val_accuracy: 0.6800\n",
            "Epoch 102/200\n",
            "8/8 [==============================] - 10s 1s/step - loss: 0.8150 - accuracy: 0.7025 - val_loss: 0.8319 - val_accuracy: 0.7500\n",
            "Epoch 103/200\n",
            "8/8 [==============================] - 10s 1s/step - loss: 0.8458 - accuracy: 0.6975 - val_loss: 0.9460 - val_accuracy: 0.6400\n",
            "Epoch 104/200\n",
            "8/8 [==============================] - 10s 1s/step - loss: 0.8638 - accuracy: 0.6425 - val_loss: 0.9139 - val_accuracy: 0.6800\n",
            "Epoch 105/200\n",
            "8/8 [==============================] - 10s 1s/step - loss: 0.8951 - accuracy: 0.6625 - val_loss: 0.9717 - val_accuracy: 0.6600\n",
            "Epoch 106/200\n",
            "8/8 [==============================] - 10s 1s/step - loss: 0.8080 - accuracy: 0.6900 - val_loss: 0.7510 - val_accuracy: 0.7500\n",
            "Epoch 107/200\n",
            "8/8 [==============================] - 10s 1s/step - loss: 0.9242 - accuracy: 0.6525 - val_loss: 0.7221 - val_accuracy: 0.7300\n",
            "Epoch 108/200\n",
            "8/8 [==============================] - 10s 1s/step - loss: 0.8863 - accuracy: 0.6650 - val_loss: 0.9620 - val_accuracy: 0.6400\n",
            "Epoch 109/200\n",
            "8/8 [==============================] - 10s 1s/step - loss: 0.8727 - accuracy: 0.6550 - val_loss: 0.8091 - val_accuracy: 0.7200\n",
            "Epoch 110/200\n",
            "8/8 [==============================] - 10s 1s/step - loss: 0.8581 - accuracy: 0.6725 - val_loss: 0.7574 - val_accuracy: 0.7100\n",
            "Epoch 111/200\n",
            "8/8 [==============================] - 10s 1s/step - loss: 0.8126 - accuracy: 0.6750 - val_loss: 0.6574 - val_accuracy: 0.7500\n",
            "Epoch 112/200\n",
            "8/8 [==============================] - 10s 1s/step - loss: 0.8480 - accuracy: 0.6450 - val_loss: 0.8391 - val_accuracy: 0.7100\n",
            "Epoch 113/200\n",
            "8/8 [==============================] - 10s 1s/step - loss: 0.7733 - accuracy: 0.7125 - val_loss: 0.6508 - val_accuracy: 0.7600\n",
            "Epoch 114/200\n",
            "8/8 [==============================] - 10s 1s/step - loss: 0.7688 - accuracy: 0.7025 - val_loss: 0.8333 - val_accuracy: 0.7100\n",
            "Epoch 115/200\n",
            "8/8 [==============================] - 10s 1s/step - loss: 0.7983 - accuracy: 0.6750 - val_loss: 0.8174 - val_accuracy: 0.6800\n",
            "Epoch 116/200\n",
            "8/8 [==============================] - 10s 1s/step - loss: 0.8258 - accuracy: 0.6900 - val_loss: 0.7653 - val_accuracy: 0.6900\n",
            "Epoch 117/200\n",
            "8/8 [==============================] - 10s 1s/step - loss: 0.7863 - accuracy: 0.6900 - val_loss: 0.8723 - val_accuracy: 0.6900\n",
            "Epoch 118/200\n",
            "8/8 [==============================] - 10s 1s/step - loss: 0.7623 - accuracy: 0.7125 - val_loss: 0.7838 - val_accuracy: 0.7600\n",
            "Epoch 119/200\n",
            "8/8 [==============================] - 10s 1s/step - loss: 0.7526 - accuracy: 0.7150 - val_loss: 0.5607 - val_accuracy: 0.7800\n",
            "Epoch 120/200\n",
            "8/8 [==============================] - 10s 1s/step - loss: 0.7864 - accuracy: 0.6725 - val_loss: 0.7709 - val_accuracy: 0.6900\n",
            "Epoch 121/200\n",
            "8/8 [==============================] - 10s 1s/step - loss: 0.7143 - accuracy: 0.7275 - val_loss: 0.9751 - val_accuracy: 0.6700\n",
            "Epoch 122/200\n",
            "8/8 [==============================] - 10s 1s/step - loss: 0.8506 - accuracy: 0.6925 - val_loss: 1.0232 - val_accuracy: 0.6600\n",
            "Epoch 123/200\n",
            "8/8 [==============================] - 10s 1s/step - loss: 0.9169 - accuracy: 0.6675 - val_loss: 0.7526 - val_accuracy: 0.7200\n",
            "Epoch 124/200\n",
            "8/8 [==============================] - 10s 1s/step - loss: 0.8126 - accuracy: 0.6850 - val_loss: 0.8863 - val_accuracy: 0.7100\n",
            "Epoch 125/200\n",
            "8/8 [==============================] - 10s 1s/step - loss: 0.7539 - accuracy: 0.7200 - val_loss: 0.9776 - val_accuracy: 0.6300\n",
            "Epoch 126/200\n",
            "8/8 [==============================] - 10s 1s/step - loss: 0.8583 - accuracy: 0.6550 - val_loss: 0.8239 - val_accuracy: 0.7200\n",
            "Epoch 127/200\n",
            "8/8 [==============================] - 10s 1s/step - loss: 0.8113 - accuracy: 0.6850 - val_loss: 0.8297 - val_accuracy: 0.7300\n",
            "Epoch 128/200\n",
            "8/8 [==============================] - 10s 1s/step - loss: 0.8345 - accuracy: 0.6825 - val_loss: 0.9953 - val_accuracy: 0.6600\n",
            "Epoch 129/200\n",
            "8/8 [==============================] - 10s 1s/step - loss: 0.8631 - accuracy: 0.6475 - val_loss: 0.8007 - val_accuracy: 0.7300\n",
            "Epoch 130/200\n",
            "8/8 [==============================] - 10s 1s/step - loss: 0.7570 - accuracy: 0.7025 - val_loss: 0.8874 - val_accuracy: 0.7000\n",
            "Epoch 131/200\n",
            "8/8 [==============================] - 10s 1s/step - loss: 0.7940 - accuracy: 0.7175 - val_loss: 1.0722 - val_accuracy: 0.6700\n",
            "Epoch 132/200\n",
            "8/8 [==============================] - 10s 1s/step - loss: 0.8752 - accuracy: 0.6725 - val_loss: 0.7846 - val_accuracy: 0.7000\n",
            "Epoch 133/200\n",
            "8/8 [==============================] - 10s 1s/step - loss: 0.7936 - accuracy: 0.6775 - val_loss: 0.7046 - val_accuracy: 0.7500\n",
            "Epoch 134/200\n",
            "8/8 [==============================] - 10s 1s/step - loss: 0.7539 - accuracy: 0.7350 - val_loss: 0.6436 - val_accuracy: 0.8000\n",
            "Epoch 135/200\n",
            "8/8 [==============================] - 10s 1s/step - loss: 0.8016 - accuracy: 0.6875 - val_loss: 0.9135 - val_accuracy: 0.6900\n",
            "Epoch 136/200\n",
            "8/8 [==============================] - 10s 1s/step - loss: 0.8651 - accuracy: 0.6650 - val_loss: 0.8763 - val_accuracy: 0.6700\n",
            "Epoch 137/200\n",
            "8/8 [==============================] - 10s 1s/step - loss: 0.8225 - accuracy: 0.6675 - val_loss: 0.8742 - val_accuracy: 0.7100\n",
            "Epoch 138/200\n",
            "8/8 [==============================] - 10s 1s/step - loss: 0.8362 - accuracy: 0.6750 - val_loss: 0.8344 - val_accuracy: 0.6900\n",
            "Epoch 139/200\n",
            "8/8 [==============================] - 10s 1s/step - loss: 0.7982 - accuracy: 0.6825 - val_loss: 1.0385 - val_accuracy: 0.6200\n",
            "Epoch 140/200\n",
            "8/8 [==============================] - 10s 1s/step - loss: 0.7552 - accuracy: 0.7300 - val_loss: 0.6552 - val_accuracy: 0.7200\n",
            "Epoch 141/200\n",
            "8/8 [==============================] - 10s 1s/step - loss: 0.7997 - accuracy: 0.7050 - val_loss: 0.7106 - val_accuracy: 0.7400\n",
            "Epoch 142/200\n",
            "8/8 [==============================] - 10s 1s/step - loss: 0.7924 - accuracy: 0.6925 - val_loss: 0.6795 - val_accuracy: 0.7700\n",
            "Epoch 143/200\n",
            "8/8 [==============================] - 10s 1s/step - loss: 0.7683 - accuracy: 0.6700 - val_loss: 0.7823 - val_accuracy: 0.7500\n",
            "Epoch 144/200\n",
            "8/8 [==============================] - 10s 1s/step - loss: 0.7957 - accuracy: 0.7100 - val_loss: 0.7960 - val_accuracy: 0.7100\n",
            "Epoch 145/200\n",
            "8/8 [==============================] - 10s 1s/step - loss: 0.7663 - accuracy: 0.7375 - val_loss: 0.9516 - val_accuracy: 0.6800\n",
            "Epoch 146/200\n",
            "8/8 [==============================] - 10s 1s/step - loss: 0.7688 - accuracy: 0.6900 - val_loss: 0.6331 - val_accuracy: 0.7800\n",
            "Epoch 147/200\n",
            "8/8 [==============================] - 10s 1s/step - loss: 0.7591 - accuracy: 0.7050 - val_loss: 0.8761 - val_accuracy: 0.7100\n",
            "Epoch 148/200\n",
            "8/8 [==============================] - 10s 1s/step - loss: 0.8260 - accuracy: 0.6775 - val_loss: 0.6145 - val_accuracy: 0.7700\n",
            "Epoch 149/200\n",
            "8/8 [==============================] - 9s 1s/step - loss: 0.8033 - accuracy: 0.6825 - val_loss: 0.7628 - val_accuracy: 0.7200\n",
            "Epoch 150/200\n",
            "8/8 [==============================] - 10s 1s/step - loss: 0.7623 - accuracy: 0.7100 - val_loss: 1.0235 - val_accuracy: 0.6200\n",
            "Epoch 151/200\n",
            "8/8 [==============================] - 10s 1s/step - loss: 0.8354 - accuracy: 0.6725 - val_loss: 0.9090 - val_accuracy: 0.7300\n",
            "Epoch 152/200\n",
            "8/8 [==============================] - 11s 1s/step - loss: 0.8127 - accuracy: 0.7025 - val_loss: 0.9672 - val_accuracy: 0.6400\n",
            "Epoch 153/200\n",
            "8/8 [==============================] - 10s 1s/step - loss: 0.7173 - accuracy: 0.7375 - val_loss: 0.6256 - val_accuracy: 0.7800\n",
            "Epoch 154/200\n",
            "8/8 [==============================] - 10s 1s/step - loss: 0.7612 - accuracy: 0.7075 - val_loss: 0.7893 - val_accuracy: 0.7600\n",
            "Epoch 155/200\n",
            "8/8 [==============================] - 10s 1s/step - loss: 0.7280 - accuracy: 0.7275 - val_loss: 0.7699 - val_accuracy: 0.6900\n",
            "Epoch 156/200\n",
            "8/8 [==============================] - 10s 1s/step - loss: 0.7335 - accuracy: 0.7150 - val_loss: 0.8216 - val_accuracy: 0.7000\n",
            "Epoch 157/200\n",
            "8/8 [==============================] - 10s 1s/step - loss: 0.8103 - accuracy: 0.6750 - val_loss: 0.8816 - val_accuracy: 0.6800\n",
            "Epoch 158/200\n",
            "8/8 [==============================] - 10s 1s/step - loss: 0.7796 - accuracy: 0.6800 - val_loss: 0.9233 - val_accuracy: 0.6800\n",
            "Epoch 159/200\n",
            "8/8 [==============================] - 10s 1s/step - loss: 0.7075 - accuracy: 0.7325 - val_loss: 1.0133 - val_accuracy: 0.7200\n",
            "Epoch 160/200\n",
            "8/8 [==============================] - 10s 1s/step - loss: 0.7475 - accuracy: 0.7350 - val_loss: 0.8181 - val_accuracy: 0.7200\n",
            "Epoch 161/200\n",
            "8/8 [==============================] - 10s 1s/step - loss: 0.7154 - accuracy: 0.7200 - val_loss: 1.0585 - val_accuracy: 0.6700\n",
            "Epoch 162/200\n",
            "8/8 [==============================] - 10s 1s/step - loss: 0.7849 - accuracy: 0.6975 - val_loss: 0.7340 - val_accuracy: 0.7300\n",
            "Epoch 163/200\n",
            "8/8 [==============================] - 10s 1s/step - loss: 0.7188 - accuracy: 0.7375 - val_loss: 0.7080 - val_accuracy: 0.7400\n",
            "Epoch 164/200\n",
            "8/8 [==============================] - 10s 1s/step - loss: 0.7637 - accuracy: 0.7025 - val_loss: 0.8590 - val_accuracy: 0.6900\n",
            "Epoch 165/200\n",
            "8/8 [==============================] - 10s 1s/step - loss: 0.8337 - accuracy: 0.6925 - val_loss: 0.9642 - val_accuracy: 0.6900\n",
            "Epoch 166/200\n",
            "8/8 [==============================] - 10s 1s/step - loss: 0.7818 - accuracy: 0.6975 - val_loss: 0.8310 - val_accuracy: 0.7000\n",
            "Epoch 167/200\n",
            "8/8 [==============================] - 10s 1s/step - loss: 0.7685 - accuracy: 0.7175 - val_loss: 0.8346 - val_accuracy: 0.7100\n",
            "Epoch 168/200\n",
            "8/8 [==============================] - 10s 1s/step - loss: 0.7227 - accuracy: 0.7475 - val_loss: 0.7929 - val_accuracy: 0.7100\n",
            "Epoch 169/200\n",
            "8/8 [==============================] - 10s 1s/step - loss: 0.7914 - accuracy: 0.7075 - val_loss: 0.8287 - val_accuracy: 0.7000\n",
            "Epoch 170/200\n",
            "8/8 [==============================] - 10s 1s/step - loss: 0.8237 - accuracy: 0.6825 - val_loss: 0.8051 - val_accuracy: 0.7600\n",
            "Epoch 171/200\n",
            "8/8 [==============================] - 10s 1s/step - loss: 0.7571 - accuracy: 0.7100 - val_loss: 0.8189 - val_accuracy: 0.7200\n",
            "Epoch 172/200\n",
            "8/8 [==============================] - 10s 1s/step - loss: 0.7428 - accuracy: 0.6925 - val_loss: 0.8285 - val_accuracy: 0.7300\n",
            "Epoch 173/200\n",
            "8/8 [==============================] - 10s 1s/step - loss: 0.7913 - accuracy: 0.7250 - val_loss: 0.6502 - val_accuracy: 0.7500\n",
            "Epoch 174/200\n",
            "8/8 [==============================] - 10s 1s/step - loss: 0.7376 - accuracy: 0.6950 - val_loss: 0.6942 - val_accuracy: 0.7700\n",
            "Epoch 175/200\n",
            "8/8 [==============================] - 10s 1s/step - loss: 0.6914 - accuracy: 0.7325 - val_loss: 0.8094 - val_accuracy: 0.7000\n",
            "Epoch 176/200\n",
            "8/8 [==============================] - 10s 1s/step - loss: 0.6556 - accuracy: 0.7550 - val_loss: 0.7033 - val_accuracy: 0.7600\n",
            "Epoch 177/200\n",
            "8/8 [==============================] - 10s 1s/step - loss: 0.7334 - accuracy: 0.7050 - val_loss: 0.7716 - val_accuracy: 0.7500\n",
            "Epoch 178/200\n",
            "8/8 [==============================] - 10s 1s/step - loss: 0.7395 - accuracy: 0.7200 - val_loss: 0.6958 - val_accuracy: 0.7400\n",
            "Epoch 179/200\n",
            "8/8 [==============================] - 10s 1s/step - loss: 0.6856 - accuracy: 0.7050 - val_loss: 0.8756 - val_accuracy: 0.7100\n",
            "Epoch 180/200\n",
            "8/8 [==============================] - 10s 1s/step - loss: 0.7487 - accuracy: 0.7050 - val_loss: 0.8517 - val_accuracy: 0.7200\n",
            "Epoch 181/200\n",
            "8/8 [==============================] - 10s 1s/step - loss: 0.8009 - accuracy: 0.7025 - val_loss: 0.9079 - val_accuracy: 0.7100\n",
            "Epoch 182/200\n",
            "8/8 [==============================] - 9s 1s/step - loss: 0.7216 - accuracy: 0.7300 - val_loss: 0.7423 - val_accuracy: 0.6900\n",
            "Epoch 183/200\n",
            "8/8 [==============================] - 10s 1s/step - loss: 0.7144 - accuracy: 0.7400 - val_loss: 0.6916 - val_accuracy: 0.8000\n",
            "Epoch 184/200\n",
            "8/8 [==============================] - 10s 1s/step - loss: 0.7272 - accuracy: 0.7025 - val_loss: 0.7055 - val_accuracy: 0.7800\n",
            "Epoch 185/200\n",
            "8/8 [==============================] - 10s 1s/step - loss: 0.8051 - accuracy: 0.6675 - val_loss: 0.9987 - val_accuracy: 0.6500\n",
            "Epoch 186/200\n",
            "8/8 [==============================] - 10s 1s/step - loss: 0.7753 - accuracy: 0.7025 - val_loss: 0.6726 - val_accuracy: 0.7500\n",
            "Epoch 187/200\n",
            "8/8 [==============================] - 10s 1s/step - loss: 0.7473 - accuracy: 0.7150 - val_loss: 0.8087 - val_accuracy: 0.7000\n",
            "Epoch 188/200\n",
            "8/8 [==============================] - 10s 1s/step - loss: 0.7145 - accuracy: 0.7175 - val_loss: 0.7914 - val_accuracy: 0.7300\n",
            "Epoch 189/200\n",
            "8/8 [==============================] - 10s 1s/step - loss: 0.6683 - accuracy: 0.7525 - val_loss: 0.8967 - val_accuracy: 0.6600\n",
            "Epoch 190/200\n",
            "8/8 [==============================] - 10s 1s/step - loss: 0.7406 - accuracy: 0.7050 - val_loss: 1.0270 - val_accuracy: 0.6300\n",
            "Epoch 191/200\n",
            "8/8 [==============================] - 10s 1s/step - loss: 0.7921 - accuracy: 0.7075 - val_loss: 0.9914 - val_accuracy: 0.6500\n",
            "Epoch 192/200\n",
            "8/8 [==============================] - 10s 1s/step - loss: 0.6995 - accuracy: 0.7050 - val_loss: 0.7579 - val_accuracy: 0.7500\n",
            "Epoch 193/200\n",
            "8/8 [==============================] - 10s 1s/step - loss: 0.7568 - accuracy: 0.7150 - val_loss: 0.5860 - val_accuracy: 0.7700\n",
            "Epoch 194/200\n",
            "8/8 [==============================] - 10s 1s/step - loss: 0.7535 - accuracy: 0.6850 - val_loss: 0.6041 - val_accuracy: 0.7900\n",
            "Epoch 195/200\n",
            "8/8 [==============================] - 10s 1s/step - loss: 0.6387 - accuracy: 0.7625 - val_loss: 0.5810 - val_accuracy: 0.7500\n",
            "Epoch 196/200\n",
            "8/8 [==============================] - 10s 1s/step - loss: 0.7019 - accuracy: 0.7175 - val_loss: 0.6456 - val_accuracy: 0.7800\n",
            "Epoch 197/200\n",
            "8/8 [==============================] - 10s 1s/step - loss: 0.6724 - accuracy: 0.7550 - val_loss: 0.6649 - val_accuracy: 0.7500\n",
            "Epoch 198/200\n",
            "8/8 [==============================] - 10s 1s/step - loss: 0.7271 - accuracy: 0.7350 - val_loss: 0.8347 - val_accuracy: 0.6800\n",
            "Epoch 199/200\n",
            "8/8 [==============================] - 10s 1s/step - loss: 0.7544 - accuracy: 0.7100 - val_loss: 0.7317 - val_accuracy: 0.7400\n",
            "Epoch 200/200\n",
            "8/8 [==============================] - 10s 1s/step - loss: 0.6681 - accuracy: 0.7500 - val_loss: 0.7647 - val_accuracy: 0.7100\n"
          ],
          "name": "stdout"
        }
      ]
    },
    {
      "cell_type": "markdown",
      "metadata": {
        "id": "Lhrhov_iUlQQ"
      },
      "source": [
        ""
      ]
    },
    {
      "cell_type": "code",
      "metadata": {
        "colab": {
          "base_uri": "https://localhost:8080/",
          "height": 545
        },
        "id": "7nPMcXN-UoKR",
        "outputId": "361e8d79-6a08-4fcd-d71d-d059674f17b6"
      },
      "source": [
        "import matplotlib.pyplot as plt\n",
        "acc = history.history['accuracy']\n",
        "val_acc = history.history['val_accuracy']\n",
        "loss = history.history['loss']\n",
        "val_loss = history.history['val_loss']\n",
        "\n",
        "epochs = range(len(acc))\n",
        "\n",
        "plt.plot(epochs, acc, 'r', label='Training accuracy')\n",
        "plt.plot(epochs, val_acc, 'b', label='Validation accuracy')\n",
        "plt.title('Training and validation accuracy')\n",
        "\n",
        "plt.figure()\n",
        "\n",
        "plt.plot(epochs, loss, 'r', label='Training Loss')\n",
        "plt.plot(epochs, val_loss, 'b', label='Validation Loss')\n",
        "plt.title('Training and validation loss')\n",
        "plt.legend()\n",
        "\n",
        "plt.show()"
      ],
      "execution_count": 6,
      "outputs": [
        {
          "output_type": "display_data",
          "data": {
            "image/png": "[encoded data removed]",
            "text/plain": [
              "<Figure size 432x288 with 1 Axes>"
            ]
          },
          "metadata": {
            "tags": [],
            "needs_background": "light"
          }
        },
        {
          "output_type": "display_data",
          "data": {
            "image/png": "[encoded data removed]",
            "text/plain": [
              "<Figure size 432x288 with 1 Axes>"
            ]
          },
          "metadata": {
            "tags": [],
            "needs_background": "light"
          }
        }
      ]
    },
    {
      "cell_type": "code",
      "metadata": {
        "id": "zN59_B9cUplh"
      },
      "source": [
        ""
      ],
      "execution_count": null,
      "outputs": []
    }
  ]
}